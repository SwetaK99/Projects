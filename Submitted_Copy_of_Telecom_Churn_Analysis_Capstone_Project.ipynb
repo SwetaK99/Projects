{
  "cells": [
    {
      "cell_type": "markdown",
      "metadata": {
        "id": "view-in-github",
        "colab_type": "text"
      },
      "source": [
        "<a href=\"https://colab.research.google.com/github/SwetaK99/Projects/blob/main/Submitted_Copy_of_Telecom_Churn_Analysis_Capstone_Project.ipynb\" target=\"_parent\"><img src=\"https://colab.research.google.com/assets/colab-badge.svg\" alt=\"Open In Colab\"/></a>"
      ]
    },
    {
      "cell_type": "markdown",
      "metadata": {
        "id": "Y06xIdG26kRF"
      },
      "source": [
        "## <b> Orange S.A., formerly France Télécom S.A., is a French multinational telecommunications corporation. The Orange Telecom's Churn Dataset, consists of cleaned customer activity data (features), along with a churn label specifying whether a customer canceled the subscription.\n",
        "\n",
        "## <b> Explore and analyze the data to discover key factors responsible for customer churn and come up with ways/recommendations to ensure customer retention. </b>"
      ]
    },
    {
      "cell_type": "markdown",
      "source": [
        "A “churn” with respect to the Telecom industry, is defined as the percentage of subscribers moving from a specific service or a service provider to another in a given period of time.\n",
        "\n",
        "Main causes of customer churn in the telecom industry can be many some of them are:\n",
        "\n",
        "* Service quality\n",
        "* Features and content availability\n",
        "* Lower cost substitutes from competitors\n",
        "* Negative customer service experiences\n",
        "\n",
        "\n",
        "Here Orange S.A., formerly France Télécom S.A. is facing a very similar issue and for getting to know the reason we have to explore the data ....so, lets get started with it."
      ],
      "metadata": {
        "id": "9COaYhezofGE"
      }
    },
    {
      "cell_type": "markdown",
      "source": [
        "# Data exploring\n",
        "\n",
        "---\n",
        "\n",
        "\n",
        "\n",
        "---\n",
        "\n"
      ],
      "metadata": {
        "id": "IJVf_6sOsuU1"
      }
    },
    {
      "cell_type": "code",
      "execution_count": null,
      "metadata": {
        "id": "dByMsuzT8Tnw"
      },
      "outputs": [],
      "source": [
        "#importing the libraries\n",
        "import pandas as pd \n",
        "import numpy as np\n",
        "import matplotlib.pyplot as plt\n",
        "\n",
        "import seaborn as sns\n",
        "import warnings\n",
        "warnings.filterwarnings('ignore')\n"
      ]
    },
    {
      "cell_type": "code",
      "execution_count": null,
      "metadata": {
        "colab": {
          "base_uri": "https://localhost:8080/"
        },
        "id": "AxkSfywH3c1X",
        "outputId": "a7605e84-3893-4635-94d8-a1ebfdcd8a74"
      },
      "outputs": [
        {
          "output_type": "stream",
          "name": "stdout",
          "text": [
            "Mounted at /content/drive\n"
          ]
        }
      ],
      "source": [
        "#mounting drive\n",
        "from google.colab import drive\n",
        "drive.mount('/content/drive')"
      ]
    },
    {
      "cell_type": "code",
      "execution_count": null,
      "metadata": {
        "id": "p57KGJck1dbP"
      },
      "outputs": [],
      "source": [
        "df=pd.read_csv('/content/drive/MyDrive/data/Copy of Telecom Churn.csv')"
      ]
    },
    {
      "cell_type": "code",
      "execution_count": null,
      "metadata": {
        "colab": {
          "base_uri": "https://localhost:8080/"
        },
        "id": "mMTawYAL4SRZ",
        "outputId": "a75b9239-5cfa-4c53-ef97-6657871119d9"
      },
      "outputs": [
        {
          "output_type": "execute_result",
          "data": {
            "text/plain": [
              "  State  Account length  Area code International plan Voice mail plan  \\\n",
              "0    KS             128        415                 No             Yes   \n",
              "1    OH             107        415                 No             Yes   \n",
              "2    NJ             137        415                 No              No   \n",
              "3    OH              84        408                Yes              No   \n",
              "4    OK              75        415                Yes              No   \n",
              "\n",
              "   Number vmail messages  Total day minutes  Total day calls  \\\n",
              "0                     25              265.1              110   \n",
              "1                     26              161.6              123   \n",
              "2                      0              243.4              114   \n",
              "3                      0              299.4               71   \n",
              "4                      0              166.7              113   \n",
              "\n",
              "   Total day charge  Total eve minutes  Total eve calls  Total eve charge  \\\n",
              "0             45.07              197.4               99             16.78   \n",
              "1             27.47              195.5              103             16.62   \n",
              "2             41.38              121.2              110             10.30   \n",
              "3             50.90               61.9               88              5.26   \n",
              "4             28.34              148.3              122             12.61   \n",
              "\n",
              "   Total night minutes  Total night calls  Total night charge  \\\n",
              "0                244.7                 91               11.01   \n",
              "1                254.4                103               11.45   \n",
              "2                162.6                104                7.32   \n",
              "3                196.9                 89                8.86   \n",
              "4                186.9                121                8.41   \n",
              "\n",
              "   Total intl minutes  Total intl calls  Total intl charge  \\\n",
              "0                10.0                 3               2.70   \n",
              "1                13.7                 3               3.70   \n",
              "2                12.2                 5               3.29   \n",
              "3                 6.6                 7               1.78   \n",
              "4                10.1                 3               2.73   \n",
              "\n",
              "   Customer service calls  Churn  \n",
              "0                       1  False  \n",
              "1                       1  False  \n",
              "2                       0  False  \n",
              "3                       2  False  \n",
              "4                       3  False  "
            ],
            "text/html": [
              "\n",
              "  <div id=\"df-375bc995-31a7-40ea-ac03-c9c27e29f4fe\">\n",
              "    <div class=\"colab-df-container\">\n",
              "      <div>\n",
              "<style scoped>\n",
              "    .dataframe tbody tr th:only-of-type {\n",
              "        vertical-align: middle;\n",
              "    }\n",
              "\n",
              "    .dataframe tbody tr th {\n",
              "        vertical-align: top;\n",
              "    }\n",
              "\n",
              "    .dataframe thead th {\n",
              "        text-align: right;\n",
              "    }\n",
              "</style>\n",
              "<table border=\"1\" class=\"dataframe\">\n",
              "  <thead>\n",
              "    <tr style=\"text-align: right;\">\n",
              "      <th></th>\n",
              "      <th>State</th>\n",
              "      <th>Account length</th>\n",
              "      <th>Area code</th>\n",
              "      <th>International plan</th>\n",
              "      <th>Voice mail plan</th>\n",
              "      <th>Number vmail messages</th>\n",
              "      <th>Total day minutes</th>\n",
              "      <th>Total day calls</th>\n",
              "      <th>Total day charge</th>\n",
              "      <th>Total eve minutes</th>\n",
              "      <th>Total eve calls</th>\n",
              "      <th>Total eve charge</th>\n",
              "      <th>Total night minutes</th>\n",
              "      <th>Total night calls</th>\n",
              "      <th>Total night charge</th>\n",
              "      <th>Total intl minutes</th>\n",
              "      <th>Total intl calls</th>\n",
              "      <th>Total intl charge</th>\n",
              "      <th>Customer service calls</th>\n",
              "      <th>Churn</th>\n",
              "    </tr>\n",
              "  </thead>\n",
              "  <tbody>\n",
              "    <tr>\n",
              "      <th>0</th>\n",
              "      <td>KS</td>\n",
              "      <td>128</td>\n",
              "      <td>415</td>\n",
              "      <td>No</td>\n",
              "      <td>Yes</td>\n",
              "      <td>25</td>\n",
              "      <td>265.1</td>\n",
              "      <td>110</td>\n",
              "      <td>45.07</td>\n",
              "      <td>197.4</td>\n",
              "      <td>99</td>\n",
              "      <td>16.78</td>\n",
              "      <td>244.7</td>\n",
              "      <td>91</td>\n",
              "      <td>11.01</td>\n",
              "      <td>10.0</td>\n",
              "      <td>3</td>\n",
              "      <td>2.70</td>\n",
              "      <td>1</td>\n",
              "      <td>False</td>\n",
              "    </tr>\n",
              "    <tr>\n",
              "      <th>1</th>\n",
              "      <td>OH</td>\n",
              "      <td>107</td>\n",
              "      <td>415</td>\n",
              "      <td>No</td>\n",
              "      <td>Yes</td>\n",
              "      <td>26</td>\n",
              "      <td>161.6</td>\n",
              "      <td>123</td>\n",
              "      <td>27.47</td>\n",
              "      <td>195.5</td>\n",
              "      <td>103</td>\n",
              "      <td>16.62</td>\n",
              "      <td>254.4</td>\n",
              "      <td>103</td>\n",
              "      <td>11.45</td>\n",
              "      <td>13.7</td>\n",
              "      <td>3</td>\n",
              "      <td>3.70</td>\n",
              "      <td>1</td>\n",
              "      <td>False</td>\n",
              "    </tr>\n",
              "    <tr>\n",
              "      <th>2</th>\n",
              "      <td>NJ</td>\n",
              "      <td>137</td>\n",
              "      <td>415</td>\n",
              "      <td>No</td>\n",
              "      <td>No</td>\n",
              "      <td>0</td>\n",
              "      <td>243.4</td>\n",
              "      <td>114</td>\n",
              "      <td>41.38</td>\n",
              "      <td>121.2</td>\n",
              "      <td>110</td>\n",
              "      <td>10.30</td>\n",
              "      <td>162.6</td>\n",
              "      <td>104</td>\n",
              "      <td>7.32</td>\n",
              "      <td>12.2</td>\n",
              "      <td>5</td>\n",
              "      <td>3.29</td>\n",
              "      <td>0</td>\n",
              "      <td>False</td>\n",
              "    </tr>\n",
              "    <tr>\n",
              "      <th>3</th>\n",
              "      <td>OH</td>\n",
              "      <td>84</td>\n",
              "      <td>408</td>\n",
              "      <td>Yes</td>\n",
              "      <td>No</td>\n",
              "      <td>0</td>\n",
              "      <td>299.4</td>\n",
              "      <td>71</td>\n",
              "      <td>50.90</td>\n",
              "      <td>61.9</td>\n",
              "      <td>88</td>\n",
              "      <td>5.26</td>\n",
              "      <td>196.9</td>\n",
              "      <td>89</td>\n",
              "      <td>8.86</td>\n",
              "      <td>6.6</td>\n",
              "      <td>7</td>\n",
              "      <td>1.78</td>\n",
              "      <td>2</td>\n",
              "      <td>False</td>\n",
              "    </tr>\n",
              "    <tr>\n",
              "      <th>4</th>\n",
              "      <td>OK</td>\n",
              "      <td>75</td>\n",
              "      <td>415</td>\n",
              "      <td>Yes</td>\n",
              "      <td>No</td>\n",
              "      <td>0</td>\n",
              "      <td>166.7</td>\n",
              "      <td>113</td>\n",
              "      <td>28.34</td>\n",
              "      <td>148.3</td>\n",
              "      <td>122</td>\n",
              "      <td>12.61</td>\n",
              "      <td>186.9</td>\n",
              "      <td>121</td>\n",
              "      <td>8.41</td>\n",
              "      <td>10.1</td>\n",
              "      <td>3</td>\n",
              "      <td>2.73</td>\n",
              "      <td>3</td>\n",
              "      <td>False</td>\n",
              "    </tr>\n",
              "  </tbody>\n",
              "</table>\n",
              "</div>\n",
              "      <button class=\"colab-df-convert\" onclick=\"convertToInteractive('df-375bc995-31a7-40ea-ac03-c9c27e29f4fe')\"\n",
              "              title=\"Convert this dataframe to an interactive table.\"\n",
              "              style=\"display:none;\">\n",
              "        \n",
              "  <svg xmlns=\"http://www.w3.org/2000/svg\" height=\"24px\"viewBox=\"0 0 24 24\"\n",
              "       width=\"24px\">\n",
              "    <path d=\"M0 0h24v24H0V0z\" fill=\"none\"/>\n",
              "    <path d=\"M18.56 5.44l.94 2.06.94-2.06 2.06-.94-2.06-.94-.94-2.06-.94 2.06-2.06.94zm-11 1L8.5 8.5l.94-2.06 2.06-.94-2.06-.94L8.5 2.5l-.94 2.06-2.06.94zm10 10l.94 2.06.94-2.06 2.06-.94-2.06-.94-.94-2.06-.94 2.06-2.06.94z\"/><path d=\"M17.41 7.96l-1.37-1.37c-.4-.4-.92-.59-1.43-.59-.52 0-1.04.2-1.43.59L10.3 9.45l-7.72 7.72c-.78.78-.78 2.05 0 2.83L4 21.41c.39.39.9.59 1.41.59.51 0 1.02-.2 1.41-.59l7.78-7.78 2.81-2.81c.8-.78.8-2.07 0-2.86zM5.41 20L4 18.59l7.72-7.72 1.47 1.35L5.41 20z\"/>\n",
              "  </svg>\n",
              "      </button>\n",
              "      \n",
              "  <style>\n",
              "    .colab-df-container {\n",
              "      display:flex;\n",
              "      flex-wrap:wrap;\n",
              "      gap: 12px;\n",
              "    }\n",
              "\n",
              "    .colab-df-convert {\n",
              "      background-color: #E8F0FE;\n",
              "      border: none;\n",
              "      border-radius: 50%;\n",
              "      cursor: pointer;\n",
              "      display: none;\n",
              "      fill: #1967D2;\n",
              "      height: 32px;\n",
              "      padding: 0 0 0 0;\n",
              "      width: 32px;\n",
              "    }\n",
              "\n",
              "    .colab-df-convert:hover {\n",
              "      background-color: #E2EBFA;\n",
              "      box-shadow: 0px 1px 2px rgba(60, 64, 67, 0.3), 0px 1px 3px 1px rgba(60, 64, 67, 0.15);\n",
              "      fill: #174EA6;\n",
              "    }\n",
              "\n",
              "    [theme=dark] .colab-df-convert {\n",
              "      background-color: #3B4455;\n",
              "      fill: #D2E3FC;\n",
              "    }\n",
              "\n",
              "    [theme=dark] .colab-df-convert:hover {\n",
              "      background-color: #434B5C;\n",
              "      box-shadow: 0px 1px 3px 1px rgba(0, 0, 0, 0.15);\n",
              "      filter: drop-shadow(0px 1px 2px rgba(0, 0, 0, 0.3));\n",
              "      fill: #FFFFFF;\n",
              "    }\n",
              "  </style>\n",
              "\n",
              "      <script>\n",
              "        const buttonEl =\n",
              "          document.querySelector('#df-375bc995-31a7-40ea-ac03-c9c27e29f4fe button.colab-df-convert');\n",
              "        buttonEl.style.display =\n",
              "          google.colab.kernel.accessAllowed ? 'block' : 'none';\n",
              "\n",
              "        async function convertToInteractive(key) {\n",
              "          const element = document.querySelector('#df-375bc995-31a7-40ea-ac03-c9c27e29f4fe');\n",
              "          const dataTable =\n",
              "            await google.colab.kernel.invokeFunction('convertToInteractive',\n",
              "                                                     [key], {});\n",
              "          if (!dataTable) return;\n",
              "\n",
              "          const docLinkHtml = 'Like what you see? Visit the ' +\n",
              "            '<a target=\"_blank\" href=https://colab.research.google.com/notebooks/data_table.ipynb>data table notebook</a>'\n",
              "            + ' to learn more about interactive tables.';\n",
              "          element.innerHTML = '';\n",
              "          dataTable['output_type'] = 'display_data';\n",
              "          await google.colab.output.renderOutput(dataTable, element);\n",
              "          const docLink = document.createElement('div');\n",
              "          docLink.innerHTML = docLinkHtml;\n",
              "          element.appendChild(docLink);\n",
              "        }\n",
              "      </script>\n",
              "    </div>\n",
              "  </div>\n",
              "  "
            ]
          },
          "metadata": {},
          "execution_count": 4
        }
      ],
      "source": [
        "#Checking the data frame top 5 rows\n",
        "df.head()"
      ]
    },
    {
      "cell_type": "code",
      "execution_count": null,
      "metadata": {
        "colab": {
          "base_uri": "https://localhost:8080/"
        },
        "id": "YBPxBiYH5yec",
        "outputId": "941cd644-e664-41e1-9b4e-ded624c0a4a9"
      },
      "outputs": [
        {
          "output_type": "execute_result",
          "data": {
            "text/plain": [
              "     State  Account length  Area code International plan Voice mail plan  \\\n",
              "3328    AZ             192        415                 No             Yes   \n",
              "3329    WV              68        415                 No              No   \n",
              "3330    RI              28        510                 No              No   \n",
              "3331    CT             184        510                Yes              No   \n",
              "3332    TN              74        415                 No             Yes   \n",
              "\n",
              "      Number vmail messages  Total day minutes  Total day calls  \\\n",
              "3328                     36              156.2               77   \n",
              "3329                      0              231.1               57   \n",
              "3330                      0              180.8              109   \n",
              "3331                      0              213.8              105   \n",
              "3332                     25              234.4              113   \n",
              "\n",
              "      Total day charge  Total eve minutes  Total eve calls  Total eve charge  \\\n",
              "3328             26.55              215.5              126             18.32   \n",
              "3329             39.29              153.4               55             13.04   \n",
              "3330             30.74              288.8               58             24.55   \n",
              "3331             36.35              159.6               84             13.57   \n",
              "3332             39.85              265.9               82             22.60   \n",
              "\n",
              "      Total night minutes  Total night calls  Total night charge  \\\n",
              "3328                279.1                 83               12.56   \n",
              "3329                191.3                123                8.61   \n",
              "3330                191.9                 91                8.64   \n",
              "3331                139.2                137                6.26   \n",
              "3332                241.4                 77               10.86   \n",
              "\n",
              "      Total intl minutes  Total intl calls  Total intl charge  \\\n",
              "3328                 9.9                 6               2.67   \n",
              "3329                 9.6                 4               2.59   \n",
              "3330                14.1                 6               3.81   \n",
              "3331                 5.0                10               1.35   \n",
              "3332                13.7                 4               3.70   \n",
              "\n",
              "      Customer service calls  Churn  \n",
              "3328                       2  False  \n",
              "3329                       3  False  \n",
              "3330                       2  False  \n",
              "3331                       2  False  \n",
              "3332                       0  False  "
            ],
            "text/html": [
              "\n",
              "  <div id=\"df-70a840e4-c46d-4282-b731-7071a0bfda59\">\n",
              "    <div class=\"colab-df-container\">\n",
              "      <div>\n",
              "<style scoped>\n",
              "    .dataframe tbody tr th:only-of-type {\n",
              "        vertical-align: middle;\n",
              "    }\n",
              "\n",
              "    .dataframe tbody tr th {\n",
              "        vertical-align: top;\n",
              "    }\n",
              "\n",
              "    .dataframe thead th {\n",
              "        text-align: right;\n",
              "    }\n",
              "</style>\n",
              "<table border=\"1\" class=\"dataframe\">\n",
              "  <thead>\n",
              "    <tr style=\"text-align: right;\">\n",
              "      <th></th>\n",
              "      <th>State</th>\n",
              "      <th>Account length</th>\n",
              "      <th>Area code</th>\n",
              "      <th>International plan</th>\n",
              "      <th>Voice mail plan</th>\n",
              "      <th>Number vmail messages</th>\n",
              "      <th>Total day minutes</th>\n",
              "      <th>Total day calls</th>\n",
              "      <th>Total day charge</th>\n",
              "      <th>Total eve minutes</th>\n",
              "      <th>Total eve calls</th>\n",
              "      <th>Total eve charge</th>\n",
              "      <th>Total night minutes</th>\n",
              "      <th>Total night calls</th>\n",
              "      <th>Total night charge</th>\n",
              "      <th>Total intl minutes</th>\n",
              "      <th>Total intl calls</th>\n",
              "      <th>Total intl charge</th>\n",
              "      <th>Customer service calls</th>\n",
              "      <th>Churn</th>\n",
              "    </tr>\n",
              "  </thead>\n",
              "  <tbody>\n",
              "    <tr>\n",
              "      <th>3328</th>\n",
              "      <td>AZ</td>\n",
              "      <td>192</td>\n",
              "      <td>415</td>\n",
              "      <td>No</td>\n",
              "      <td>Yes</td>\n",
              "      <td>36</td>\n",
              "      <td>156.2</td>\n",
              "      <td>77</td>\n",
              "      <td>26.55</td>\n",
              "      <td>215.5</td>\n",
              "      <td>126</td>\n",
              "      <td>18.32</td>\n",
              "      <td>279.1</td>\n",
              "      <td>83</td>\n",
              "      <td>12.56</td>\n",
              "      <td>9.9</td>\n",
              "      <td>6</td>\n",
              "      <td>2.67</td>\n",
              "      <td>2</td>\n",
              "      <td>False</td>\n",
              "    </tr>\n",
              "    <tr>\n",
              "      <th>3329</th>\n",
              "      <td>WV</td>\n",
              "      <td>68</td>\n",
              "      <td>415</td>\n",
              "      <td>No</td>\n",
              "      <td>No</td>\n",
              "      <td>0</td>\n",
              "      <td>231.1</td>\n",
              "      <td>57</td>\n",
              "      <td>39.29</td>\n",
              "      <td>153.4</td>\n",
              "      <td>55</td>\n",
              "      <td>13.04</td>\n",
              "      <td>191.3</td>\n",
              "      <td>123</td>\n",
              "      <td>8.61</td>\n",
              "      <td>9.6</td>\n",
              "      <td>4</td>\n",
              "      <td>2.59</td>\n",
              "      <td>3</td>\n",
              "      <td>False</td>\n",
              "    </tr>\n",
              "    <tr>\n",
              "      <th>3330</th>\n",
              "      <td>RI</td>\n",
              "      <td>28</td>\n",
              "      <td>510</td>\n",
              "      <td>No</td>\n",
              "      <td>No</td>\n",
              "      <td>0</td>\n",
              "      <td>180.8</td>\n",
              "      <td>109</td>\n",
              "      <td>30.74</td>\n",
              "      <td>288.8</td>\n",
              "      <td>58</td>\n",
              "      <td>24.55</td>\n",
              "      <td>191.9</td>\n",
              "      <td>91</td>\n",
              "      <td>8.64</td>\n",
              "      <td>14.1</td>\n",
              "      <td>6</td>\n",
              "      <td>3.81</td>\n",
              "      <td>2</td>\n",
              "      <td>False</td>\n",
              "    </tr>\n",
              "    <tr>\n",
              "      <th>3331</th>\n",
              "      <td>CT</td>\n",
              "      <td>184</td>\n",
              "      <td>510</td>\n",
              "      <td>Yes</td>\n",
              "      <td>No</td>\n",
              "      <td>0</td>\n",
              "      <td>213.8</td>\n",
              "      <td>105</td>\n",
              "      <td>36.35</td>\n",
              "      <td>159.6</td>\n",
              "      <td>84</td>\n",
              "      <td>13.57</td>\n",
              "      <td>139.2</td>\n",
              "      <td>137</td>\n",
              "      <td>6.26</td>\n",
              "      <td>5.0</td>\n",
              "      <td>10</td>\n",
              "      <td>1.35</td>\n",
              "      <td>2</td>\n",
              "      <td>False</td>\n",
              "    </tr>\n",
              "    <tr>\n",
              "      <th>3332</th>\n",
              "      <td>TN</td>\n",
              "      <td>74</td>\n",
              "      <td>415</td>\n",
              "      <td>No</td>\n",
              "      <td>Yes</td>\n",
              "      <td>25</td>\n",
              "      <td>234.4</td>\n",
              "      <td>113</td>\n",
              "      <td>39.85</td>\n",
              "      <td>265.9</td>\n",
              "      <td>82</td>\n",
              "      <td>22.60</td>\n",
              "      <td>241.4</td>\n",
              "      <td>77</td>\n",
              "      <td>10.86</td>\n",
              "      <td>13.7</td>\n",
              "      <td>4</td>\n",
              "      <td>3.70</td>\n",
              "      <td>0</td>\n",
              "      <td>False</td>\n",
              "    </tr>\n",
              "  </tbody>\n",
              "</table>\n",
              "</div>\n",
              "      <button class=\"colab-df-convert\" onclick=\"convertToInteractive('df-70a840e4-c46d-4282-b731-7071a0bfda59')\"\n",
              "              title=\"Convert this dataframe to an interactive table.\"\n",
              "              style=\"display:none;\">\n",
              "        \n",
              "  <svg xmlns=\"http://www.w3.org/2000/svg\" height=\"24px\"viewBox=\"0 0 24 24\"\n",
              "       width=\"24px\">\n",
              "    <path d=\"M0 0h24v24H0V0z\" fill=\"none\"/>\n",
              "    <path d=\"M18.56 5.44l.94 2.06.94-2.06 2.06-.94-2.06-.94-.94-2.06-.94 2.06-2.06.94zm-11 1L8.5 8.5l.94-2.06 2.06-.94-2.06-.94L8.5 2.5l-.94 2.06-2.06.94zm10 10l.94 2.06.94-2.06 2.06-.94-2.06-.94-.94-2.06-.94 2.06-2.06.94z\"/><path d=\"M17.41 7.96l-1.37-1.37c-.4-.4-.92-.59-1.43-.59-.52 0-1.04.2-1.43.59L10.3 9.45l-7.72 7.72c-.78.78-.78 2.05 0 2.83L4 21.41c.39.39.9.59 1.41.59.51 0 1.02-.2 1.41-.59l7.78-7.78 2.81-2.81c.8-.78.8-2.07 0-2.86zM5.41 20L4 18.59l7.72-7.72 1.47 1.35L5.41 20z\"/>\n",
              "  </svg>\n",
              "      </button>\n",
              "      \n",
              "  <style>\n",
              "    .colab-df-container {\n",
              "      display:flex;\n",
              "      flex-wrap:wrap;\n",
              "      gap: 12px;\n",
              "    }\n",
              "\n",
              "    .colab-df-convert {\n",
              "      background-color: #E8F0FE;\n",
              "      border: none;\n",
              "      border-radius: 50%;\n",
              "      cursor: pointer;\n",
              "      display: none;\n",
              "      fill: #1967D2;\n",
              "      height: 32px;\n",
              "      padding: 0 0 0 0;\n",
              "      width: 32px;\n",
              "    }\n",
              "\n",
              "    .colab-df-convert:hover {\n",
              "      background-color: #E2EBFA;\n",
              "      box-shadow: 0px 1px 2px rgba(60, 64, 67, 0.3), 0px 1px 3px 1px rgba(60, 64, 67, 0.15);\n",
              "      fill: #174EA6;\n",
              "    }\n",
              "\n",
              "    [theme=dark] .colab-df-convert {\n",
              "      background-color: #3B4455;\n",
              "      fill: #D2E3FC;\n",
              "    }\n",
              "\n",
              "    [theme=dark] .colab-df-convert:hover {\n",
              "      background-color: #434B5C;\n",
              "      box-shadow: 0px 1px 3px 1px rgba(0, 0, 0, 0.15);\n",
              "      filter: drop-shadow(0px 1px 2px rgba(0, 0, 0, 0.3));\n",
              "      fill: #FFFFFF;\n",
              "    }\n",
              "  </style>\n",
              "\n",
              "      <script>\n",
              "        const buttonEl =\n",
              "          document.querySelector('#df-70a840e4-c46d-4282-b731-7071a0bfda59 button.colab-df-convert');\n",
              "        buttonEl.style.display =\n",
              "          google.colab.kernel.accessAllowed ? 'block' : 'none';\n",
              "\n",
              "        async function convertToInteractive(key) {\n",
              "          const element = document.querySelector('#df-70a840e4-c46d-4282-b731-7071a0bfda59');\n",
              "          const dataTable =\n",
              "            await google.colab.kernel.invokeFunction('convertToInteractive',\n",
              "                                                     [key], {});\n",
              "          if (!dataTable) return;\n",
              "\n",
              "          const docLinkHtml = 'Like what you see? Visit the ' +\n",
              "            '<a target=\"_blank\" href=https://colab.research.google.com/notebooks/data_table.ipynb>data table notebook</a>'\n",
              "            + ' to learn more about interactive tables.';\n",
              "          element.innerHTML = '';\n",
              "          dataTable['output_type'] = 'display_data';\n",
              "          await google.colab.output.renderOutput(dataTable, element);\n",
              "          const docLink = document.createElement('div');\n",
              "          docLink.innerHTML = docLinkHtml;\n",
              "          element.appendChild(docLink);\n",
              "        }\n",
              "      </script>\n",
              "    </div>\n",
              "  </div>\n",
              "  "
            ]
          },
          "metadata": {},
          "execution_count": 5
        }
      ],
      "source": [
        "# Checking the bottom 5 rows of dataframe\n",
        "df.tail()"
      ]
    },
    {
      "cell_type": "code",
      "execution_count": null,
      "metadata": {
        "colab": {
          "base_uri": "https://localhost:8080/"
        },
        "id": "54AtNzyX4VIb",
        "outputId": "e4a491b3-25c4-4257-a97e-d5013a3fba28"
      },
      "outputs": [
        {
          "output_type": "stream",
          "name": "stdout",
          "text": [
            "<class 'pandas.core.frame.DataFrame'>\n",
            "RangeIndex: 3333 entries, 0 to 3332\n",
            "Data columns (total 20 columns):\n",
            " #   Column                  Non-Null Count  Dtype  \n",
            "---  ------                  --------------  -----  \n",
            " 0   State                   3333 non-null   object \n",
            " 1   Account length          3333 non-null   int64  \n",
            " 2   Area code               3333 non-null   int64  \n",
            " 3   International plan      3333 non-null   object \n",
            " 4   Voice mail plan         3333 non-null   object \n",
            " 5   Number vmail messages   3333 non-null   int64  \n",
            " 6   Total day minutes       3333 non-null   float64\n",
            " 7   Total day calls         3333 non-null   int64  \n",
            " 8   Total day charge        3333 non-null   float64\n",
            " 9   Total eve minutes       3333 non-null   float64\n",
            " 10  Total eve calls         3333 non-null   int64  \n",
            " 11  Total eve charge        3333 non-null   float64\n",
            " 12  Total night minutes     3333 non-null   float64\n",
            " 13  Total night calls       3333 non-null   int64  \n",
            " 14  Total night charge      3333 non-null   float64\n",
            " 15  Total intl minutes      3333 non-null   float64\n",
            " 16  Total intl calls        3333 non-null   int64  \n",
            " 17  Total intl charge       3333 non-null   float64\n",
            " 18  Customer service calls  3333 non-null   int64  \n",
            " 19  Churn                   3333 non-null   bool   \n",
            "dtypes: bool(1), float64(8), int64(8), object(3)\n",
            "memory usage: 498.1+ KB\n"
          ]
        }
      ],
      "source": [
        "# the data types and no. of null values\n",
        "df.info()"
      ]
    },
    {
      "cell_type": "markdown",
      "metadata": {
        "id": "MyDjiSNp01oW"
      },
      "source": [
        "*From here we came to know that the dataframe has 20 different columns and 3333 rows*\n",
        "\n",
        "*and there is 0 null values*\n",
        "\n",
        "*data types of every column are:*\n",
        "\n",
        "* *3 are object*\n",
        "\n",
        "* *1 is boolean*\n",
        "\n",
        "* *8 are float*\n",
        "\n",
        "* *8 are integer type*"
      ]
    },
    {
      "cell_type": "markdown",
      "source": [
        "### Missing Value"
      ],
      "metadata": {
        "id": "QNvrJcUZ5fsL"
      }
    },
    {
      "cell_type": "code",
      "execution_count": null,
      "metadata": {
        "colab": {
          "base_uri": "https://localhost:8080/"
        },
        "id": "stL_EYqI2g9y",
        "outputId": "af908a28-1b94-4c32-be4d-38855fea4bdb"
      },
      "outputs": [
        {
          "output_type": "execute_result",
          "data": {
            "text/plain": [
              "State                     0\n",
              "Account length            0\n",
              "Area code                 0\n",
              "International plan        0\n",
              "Voice mail plan           0\n",
              "Number vmail messages     0\n",
              "Total day minutes         0\n",
              "Total day calls           0\n",
              "Total day charge          0\n",
              "Total eve minutes         0\n",
              "Total eve calls           0\n",
              "Total eve charge          0\n",
              "Total night minutes       0\n",
              "Total night calls         0\n",
              "Total night charge        0\n",
              "Total intl minutes        0\n",
              "Total intl calls          0\n",
              "Total intl charge         0\n",
              "Customer service calls    0\n",
              "Churn                     0\n",
              "dtype: int64"
            ]
          },
          "metadata": {},
          "execution_count": 7
        }
      ],
      "source": [
        "# Cross checking the if there is  missing values or not\n",
        "df.isnull().sum()"
      ]
    },
    {
      "cell_type": "markdown",
      "metadata": {
        "id": "Lu1hxen92yeT"
      },
      "source": [
        "*From here we are sure that there is no null value present*"
      ]
    },
    {
      "cell_type": "code",
      "execution_count": null,
      "metadata": {
        "colab": {
          "base_uri": "https://localhost:8080/"
        },
        "id": "oP3ysf344X87",
        "outputId": "5fc4f61b-e76f-4fbf-a508-88479e79982f"
      },
      "outputs": [
        {
          "output_type": "execute_result",
          "data": {
            "text/plain": [
              "Index(['State', 'Account length', 'Area code', 'International plan',\n",
              "       'Voice mail plan', 'Number vmail messages', 'Total day minutes',\n",
              "       'Total day calls', 'Total day charge', 'Total eve minutes',\n",
              "       'Total eve calls', 'Total eve charge', 'Total night minutes',\n",
              "       'Total night calls', 'Total night charge', 'Total intl minutes',\n",
              "       'Total intl calls', 'Total intl charge', 'Customer service calls',\n",
              "       'Churn'],\n",
              "      dtype='object')"
            ]
          },
          "metadata": {},
          "execution_count": 8
        }
      ],
      "source": [
        "# Names of all the columns\n",
        "df.columns"
      ]
    },
    {
      "cell_type": "code",
      "execution_count": null,
      "metadata": {
        "colab": {
          "base_uri": "https://localhost:8080/"
        },
        "id": "fsqUdSNR5p_4",
        "outputId": "1e56ba0b-d1b4-4ccf-f1bc-77d1d2b867c3"
      },
      "outputs": [
        {
          "output_type": "stream",
          "name": "stdout",
          "text": [
            "Rows , Columns:  (3333, 20)\n"
          ]
        }
      ],
      "source": [
        "# getting the no.of rows and columns in dataframe\n",
        "print('Rows , Columns: ', df.shape)"
      ]
    },
    {
      "cell_type": "markdown",
      "metadata": {
        "id": "OYGmPg9Q3HPW"
      },
      "source": [
        "*There are 3333 rows and 20 columns present in our dataframe*"
      ]
    },
    {
      "cell_type": "code",
      "execution_count": null,
      "metadata": {
        "id": "FdD-FjPmTt9p",
        "colab": {
          "base_uri": "https://localhost:8080/"
        },
        "outputId": "70b74d69-420b-4edb-a4c6-d7b2162c63a9"
      },
      "outputs": [
        {
          "output_type": "execute_result",
          "data": {
            "text/plain": [
              "State                       51\n",
              "Account length             212\n",
              "Area code                    3\n",
              "International plan           2\n",
              "Voice mail plan              2\n",
              "Number vmail messages       46\n",
              "Total day minutes         1667\n",
              "Total day calls            119\n",
              "Total day charge          1667\n",
              "Total eve minutes         1611\n",
              "Total eve calls            123\n",
              "Total eve charge          1440\n",
              "Total night minutes       1591\n",
              "Total night calls          120\n",
              "Total night charge         933\n",
              "Total intl minutes         162\n",
              "Total intl calls            21\n",
              "Total intl charge          162\n",
              "Customer service calls      10\n",
              "Churn                        2\n",
              "dtype: int64"
            ]
          },
          "metadata": {},
          "execution_count": 10
        }
      ],
      "source": [
        "#Every column's no. of unique values\n",
        "unique_values=df.nunique()\n",
        "unique_values"
      ]
    },
    {
      "cell_type": "markdown",
      "metadata": {
        "id": "zzFot7QeAGTh"
      },
      "source": [
        "**State:**  There are 51 different states in which telecom churn is taking place,so,we will check the which state has most and least churning\n",
        "\n",
        "**Account length:**  212 different account length i,e the number of days a person is using telecom churn is present \n",
        "\n",
        "**Area code** 3 unique area code from where data of customer belongs has been collected \n",
        "\n",
        "**International plan** 2 means either there is a plan that is yes or no plan\n",
        "\n",
        "**Voice mail plan** 2 means either there is a plan on customers that is yes or no plan\n",
        "\n",
        "**Number vmail messages** 46 different numbers of voicemail message is being sent in a day by a customer everyday\n",
        "\n",
        "**Total day minutes** 1667 unique value  of minute in a day that a customer is using  \n",
        "\n",
        "**Total day calls** 119 unique no. of calls in a day is made by the customer\n",
        "\n",
        "**Total day charge** 1667 different amount of charge is to be paid by  customer\n",
        "for their call during a day\n",
        "\n",
        "**Total eve minutes** 1611  unique value  of minute in evening that a customer is using  \n",
        "\n",
        "\n",
        "**Total eve calls**  123  unique no. of calls in evening is made by the customer\n",
        "\n",
        "**Total eve charge** 1440  different amount of charge is to be paid by  customer\n",
        "or their calls in every evening\n",
        "\n",
        "\n",
        "**Total night minutes** 1591  unique value  of minute at night  that a customer is using  \n",
        "\n",
        "**Total night calls**  120  unique no. of calls at night is made by the customer\n",
        "\n",
        "\n",
        "**Total night charge** 933 different amount of charge is to be paid by  customer\n",
        "or their calls in every night\n",
        "\n",
        "**Total intl minutes** 162  unique value of minute as international calls  that a customer is making  \n",
        "\n",
        "\n",
        "**Total intl calls**  21 unique no. of  international calls  is made by the customer\n",
        "\n",
        "**Total intl charge**  162 different amount of charge is to be paid by  customer\n",
        "or their  international calls\n",
        "\n",
        "**Customer service calls**  10 different customer service calls was made by the customer on daily basis\n",
        "\n",
        "**Churn**  2    values of churn is present either yes or no      \n"
      ]
    },
    {
      "cell_type": "code",
      "execution_count": null,
      "metadata": {
        "colab": {
          "base_uri": "https://localhost:8080/"
        },
        "id": "5uUEP2eOUWRC",
        "outputId": "a2ebaf08-be21-464d-aaa8-ce87ab89c7a1"
      },
      "outputs": [
        {
          "output_type": "execute_result",
          "data": {
            "text/plain": [
              "       State  Account length    Area code International plan Voice mail plan  \\\n",
              "count   3333     3333.000000  3333.000000               3333            3333   \n",
              "unique    51             NaN          NaN                  2               2   \n",
              "top       WV             NaN          NaN                 No              No   \n",
              "freq     106             NaN          NaN               3010            2411   \n",
              "mean     NaN      101.064806   437.182418                NaN             NaN   \n",
              "std      NaN       39.822106    42.371290                NaN             NaN   \n",
              "min      NaN        1.000000   408.000000                NaN             NaN   \n",
              "25%      NaN       74.000000   408.000000                NaN             NaN   \n",
              "50%      NaN      101.000000   415.000000                NaN             NaN   \n",
              "75%      NaN      127.000000   510.000000                NaN             NaN   \n",
              "max      NaN      243.000000   510.000000                NaN             NaN   \n",
              "\n",
              "        Number vmail messages  Total day minutes  Total day calls  \\\n",
              "count             3333.000000        3333.000000      3333.000000   \n",
              "unique                    NaN                NaN              NaN   \n",
              "top                       NaN                NaN              NaN   \n",
              "freq                      NaN                NaN              NaN   \n",
              "mean                 8.099010         179.775098       100.435644   \n",
              "std                 13.688365          54.467389        20.069084   \n",
              "min                  0.000000           0.000000         0.000000   \n",
              "25%                  0.000000         143.700000        87.000000   \n",
              "50%                  0.000000         179.400000       101.000000   \n",
              "75%                 20.000000         216.400000       114.000000   \n",
              "max                 51.000000         350.800000       165.000000   \n",
              "\n",
              "        Total day charge  Total eve minutes  Total eve calls  \\\n",
              "count        3333.000000        3333.000000      3333.000000   \n",
              "unique               NaN                NaN              NaN   \n",
              "top                  NaN                NaN              NaN   \n",
              "freq                 NaN                NaN              NaN   \n",
              "mean           30.562307         200.980348       100.114311   \n",
              "std             9.259435          50.713844        19.922625   \n",
              "min             0.000000           0.000000         0.000000   \n",
              "25%            24.430000         166.600000        87.000000   \n",
              "50%            30.500000         201.400000       100.000000   \n",
              "75%            36.790000         235.300000       114.000000   \n",
              "max            59.640000         363.700000       170.000000   \n",
              "\n",
              "        Total eve charge  Total night minutes  Total night calls  \\\n",
              "count        3333.000000          3333.000000        3333.000000   \n",
              "unique               NaN                  NaN                NaN   \n",
              "top                  NaN                  NaN                NaN   \n",
              "freq                 NaN                  NaN                NaN   \n",
              "mean           17.083540           200.872037         100.107711   \n",
              "std             4.310668            50.573847          19.568609   \n",
              "min             0.000000            23.200000          33.000000   \n",
              "25%            14.160000           167.000000          87.000000   \n",
              "50%            17.120000           201.200000         100.000000   \n",
              "75%            20.000000           235.300000         113.000000   \n",
              "max            30.910000           395.000000         175.000000   \n",
              "\n",
              "        Total night charge  Total intl minutes  Total intl calls  \\\n",
              "count          3333.000000         3333.000000       3333.000000   \n",
              "unique                 NaN                 NaN               NaN   \n",
              "top                    NaN                 NaN               NaN   \n",
              "freq                   NaN                 NaN               NaN   \n",
              "mean              9.039325           10.237294          4.479448   \n",
              "std               2.275873            2.791840          2.461214   \n",
              "min               1.040000            0.000000          0.000000   \n",
              "25%               7.520000            8.500000          3.000000   \n",
              "50%               9.050000           10.300000          4.000000   \n",
              "75%              10.590000           12.100000          6.000000   \n",
              "max              17.770000           20.000000         20.000000   \n",
              "\n",
              "        Total intl charge  Customer service calls  Churn  \n",
              "count         3333.000000             3333.000000   3333  \n",
              "unique                NaN                     NaN      2  \n",
              "top                   NaN                     NaN  False  \n",
              "freq                  NaN                     NaN   2850  \n",
              "mean             2.764581                1.562856    NaN  \n",
              "std              0.753773                1.315491    NaN  \n",
              "min              0.000000                0.000000    NaN  \n",
              "25%              2.300000                1.000000    NaN  \n",
              "50%              2.780000                1.000000    NaN  \n",
              "75%              3.270000                2.000000    NaN  \n",
              "max              5.400000                9.000000    NaN  "
            ],
            "text/html": [
              "\n",
              "  <div id=\"df-ae1a5cef-8024-4ba8-8baf-0f43ddee6d6b\">\n",
              "    <div class=\"colab-df-container\">\n",
              "      <div>\n",
              "<style scoped>\n",
              "    .dataframe tbody tr th:only-of-type {\n",
              "        vertical-align: middle;\n",
              "    }\n",
              "\n",
              "    .dataframe tbody tr th {\n",
              "        vertical-align: top;\n",
              "    }\n",
              "\n",
              "    .dataframe thead th {\n",
              "        text-align: right;\n",
              "    }\n",
              "</style>\n",
              "<table border=\"1\" class=\"dataframe\">\n",
              "  <thead>\n",
              "    <tr style=\"text-align: right;\">\n",
              "      <th></th>\n",
              "      <th>State</th>\n",
              "      <th>Account length</th>\n",
              "      <th>Area code</th>\n",
              "      <th>International plan</th>\n",
              "      <th>Voice mail plan</th>\n",
              "      <th>Number vmail messages</th>\n",
              "      <th>Total day minutes</th>\n",
              "      <th>Total day calls</th>\n",
              "      <th>Total day charge</th>\n",
              "      <th>Total eve minutes</th>\n",
              "      <th>Total eve calls</th>\n",
              "      <th>Total eve charge</th>\n",
              "      <th>Total night minutes</th>\n",
              "      <th>Total night calls</th>\n",
              "      <th>Total night charge</th>\n",
              "      <th>Total intl minutes</th>\n",
              "      <th>Total intl calls</th>\n",
              "      <th>Total intl charge</th>\n",
              "      <th>Customer service calls</th>\n",
              "      <th>Churn</th>\n",
              "    </tr>\n",
              "  </thead>\n",
              "  <tbody>\n",
              "    <tr>\n",
              "      <th>count</th>\n",
              "      <td>3333</td>\n",
              "      <td>3333.000000</td>\n",
              "      <td>3333.000000</td>\n",
              "      <td>3333</td>\n",
              "      <td>3333</td>\n",
              "      <td>3333.000000</td>\n",
              "      <td>3333.000000</td>\n",
              "      <td>3333.000000</td>\n",
              "      <td>3333.000000</td>\n",
              "      <td>3333.000000</td>\n",
              "      <td>3333.000000</td>\n",
              "      <td>3333.000000</td>\n",
              "      <td>3333.000000</td>\n",
              "      <td>3333.000000</td>\n",
              "      <td>3333.000000</td>\n",
              "      <td>3333.000000</td>\n",
              "      <td>3333.000000</td>\n",
              "      <td>3333.000000</td>\n",
              "      <td>3333.000000</td>\n",
              "      <td>3333</td>\n",
              "    </tr>\n",
              "    <tr>\n",
              "      <th>unique</th>\n",
              "      <td>51</td>\n",
              "      <td>NaN</td>\n",
              "      <td>NaN</td>\n",
              "      <td>2</td>\n",
              "      <td>2</td>\n",
              "      <td>NaN</td>\n",
              "      <td>NaN</td>\n",
              "      <td>NaN</td>\n",
              "      <td>NaN</td>\n",
              "      <td>NaN</td>\n",
              "      <td>NaN</td>\n",
              "      <td>NaN</td>\n",
              "      <td>NaN</td>\n",
              "      <td>NaN</td>\n",
              "      <td>NaN</td>\n",
              "      <td>NaN</td>\n",
              "      <td>NaN</td>\n",
              "      <td>NaN</td>\n",
              "      <td>NaN</td>\n",
              "      <td>2</td>\n",
              "    </tr>\n",
              "    <tr>\n",
              "      <th>top</th>\n",
              "      <td>WV</td>\n",
              "      <td>NaN</td>\n",
              "      <td>NaN</td>\n",
              "      <td>No</td>\n",
              "      <td>No</td>\n",
              "      <td>NaN</td>\n",
              "      <td>NaN</td>\n",
              "      <td>NaN</td>\n",
              "      <td>NaN</td>\n",
              "      <td>NaN</td>\n",
              "      <td>NaN</td>\n",
              "      <td>NaN</td>\n",
              "      <td>NaN</td>\n",
              "      <td>NaN</td>\n",
              "      <td>NaN</td>\n",
              "      <td>NaN</td>\n",
              "      <td>NaN</td>\n",
              "      <td>NaN</td>\n",
              "      <td>NaN</td>\n",
              "      <td>False</td>\n",
              "    </tr>\n",
              "    <tr>\n",
              "      <th>freq</th>\n",
              "      <td>106</td>\n",
              "      <td>NaN</td>\n",
              "      <td>NaN</td>\n",
              "      <td>3010</td>\n",
              "      <td>2411</td>\n",
              "      <td>NaN</td>\n",
              "      <td>NaN</td>\n",
              "      <td>NaN</td>\n",
              "      <td>NaN</td>\n",
              "      <td>NaN</td>\n",
              "      <td>NaN</td>\n",
              "      <td>NaN</td>\n",
              "      <td>NaN</td>\n",
              "      <td>NaN</td>\n",
              "      <td>NaN</td>\n",
              "      <td>NaN</td>\n",
              "      <td>NaN</td>\n",
              "      <td>NaN</td>\n",
              "      <td>NaN</td>\n",
              "      <td>2850</td>\n",
              "    </tr>\n",
              "    <tr>\n",
              "      <th>mean</th>\n",
              "      <td>NaN</td>\n",
              "      <td>101.064806</td>\n",
              "      <td>437.182418</td>\n",
              "      <td>NaN</td>\n",
              "      <td>NaN</td>\n",
              "      <td>8.099010</td>\n",
              "      <td>179.775098</td>\n",
              "      <td>100.435644</td>\n",
              "      <td>30.562307</td>\n",
              "      <td>200.980348</td>\n",
              "      <td>100.114311</td>\n",
              "      <td>17.083540</td>\n",
              "      <td>200.872037</td>\n",
              "      <td>100.107711</td>\n",
              "      <td>9.039325</td>\n",
              "      <td>10.237294</td>\n",
              "      <td>4.479448</td>\n",
              "      <td>2.764581</td>\n",
              "      <td>1.562856</td>\n",
              "      <td>NaN</td>\n",
              "    </tr>\n",
              "    <tr>\n",
              "      <th>std</th>\n",
              "      <td>NaN</td>\n",
              "      <td>39.822106</td>\n",
              "      <td>42.371290</td>\n",
              "      <td>NaN</td>\n",
              "      <td>NaN</td>\n",
              "      <td>13.688365</td>\n",
              "      <td>54.467389</td>\n",
              "      <td>20.069084</td>\n",
              "      <td>9.259435</td>\n",
              "      <td>50.713844</td>\n",
              "      <td>19.922625</td>\n",
              "      <td>4.310668</td>\n",
              "      <td>50.573847</td>\n",
              "      <td>19.568609</td>\n",
              "      <td>2.275873</td>\n",
              "      <td>2.791840</td>\n",
              "      <td>2.461214</td>\n",
              "      <td>0.753773</td>\n",
              "      <td>1.315491</td>\n",
              "      <td>NaN</td>\n",
              "    </tr>\n",
              "    <tr>\n",
              "      <th>min</th>\n",
              "      <td>NaN</td>\n",
              "      <td>1.000000</td>\n",
              "      <td>408.000000</td>\n",
              "      <td>NaN</td>\n",
              "      <td>NaN</td>\n",
              "      <td>0.000000</td>\n",
              "      <td>0.000000</td>\n",
              "      <td>0.000000</td>\n",
              "      <td>0.000000</td>\n",
              "      <td>0.000000</td>\n",
              "      <td>0.000000</td>\n",
              "      <td>0.000000</td>\n",
              "      <td>23.200000</td>\n",
              "      <td>33.000000</td>\n",
              "      <td>1.040000</td>\n",
              "      <td>0.000000</td>\n",
              "      <td>0.000000</td>\n",
              "      <td>0.000000</td>\n",
              "      <td>0.000000</td>\n",
              "      <td>NaN</td>\n",
              "    </tr>\n",
              "    <tr>\n",
              "      <th>25%</th>\n",
              "      <td>NaN</td>\n",
              "      <td>74.000000</td>\n",
              "      <td>408.000000</td>\n",
              "      <td>NaN</td>\n",
              "      <td>NaN</td>\n",
              "      <td>0.000000</td>\n",
              "      <td>143.700000</td>\n",
              "      <td>87.000000</td>\n",
              "      <td>24.430000</td>\n",
              "      <td>166.600000</td>\n",
              "      <td>87.000000</td>\n",
              "      <td>14.160000</td>\n",
              "      <td>167.000000</td>\n",
              "      <td>87.000000</td>\n",
              "      <td>7.520000</td>\n",
              "      <td>8.500000</td>\n",
              "      <td>3.000000</td>\n",
              "      <td>2.300000</td>\n",
              "      <td>1.000000</td>\n",
              "      <td>NaN</td>\n",
              "    </tr>\n",
              "    <tr>\n",
              "      <th>50%</th>\n",
              "      <td>NaN</td>\n",
              "      <td>101.000000</td>\n",
              "      <td>415.000000</td>\n",
              "      <td>NaN</td>\n",
              "      <td>NaN</td>\n",
              "      <td>0.000000</td>\n",
              "      <td>179.400000</td>\n",
              "      <td>101.000000</td>\n",
              "      <td>30.500000</td>\n",
              "      <td>201.400000</td>\n",
              "      <td>100.000000</td>\n",
              "      <td>17.120000</td>\n",
              "      <td>201.200000</td>\n",
              "      <td>100.000000</td>\n",
              "      <td>9.050000</td>\n",
              "      <td>10.300000</td>\n",
              "      <td>4.000000</td>\n",
              "      <td>2.780000</td>\n",
              "      <td>1.000000</td>\n",
              "      <td>NaN</td>\n",
              "    </tr>\n",
              "    <tr>\n",
              "      <th>75%</th>\n",
              "      <td>NaN</td>\n",
              "      <td>127.000000</td>\n",
              "      <td>510.000000</td>\n",
              "      <td>NaN</td>\n",
              "      <td>NaN</td>\n",
              "      <td>20.000000</td>\n",
              "      <td>216.400000</td>\n",
              "      <td>114.000000</td>\n",
              "      <td>36.790000</td>\n",
              "      <td>235.300000</td>\n",
              "      <td>114.000000</td>\n",
              "      <td>20.000000</td>\n",
              "      <td>235.300000</td>\n",
              "      <td>113.000000</td>\n",
              "      <td>10.590000</td>\n",
              "      <td>12.100000</td>\n",
              "      <td>6.000000</td>\n",
              "      <td>3.270000</td>\n",
              "      <td>2.000000</td>\n",
              "      <td>NaN</td>\n",
              "    </tr>\n",
              "    <tr>\n",
              "      <th>max</th>\n",
              "      <td>NaN</td>\n",
              "      <td>243.000000</td>\n",
              "      <td>510.000000</td>\n",
              "      <td>NaN</td>\n",
              "      <td>NaN</td>\n",
              "      <td>51.000000</td>\n",
              "      <td>350.800000</td>\n",
              "      <td>165.000000</td>\n",
              "      <td>59.640000</td>\n",
              "      <td>363.700000</td>\n",
              "      <td>170.000000</td>\n",
              "      <td>30.910000</td>\n",
              "      <td>395.000000</td>\n",
              "      <td>175.000000</td>\n",
              "      <td>17.770000</td>\n",
              "      <td>20.000000</td>\n",
              "      <td>20.000000</td>\n",
              "      <td>5.400000</td>\n",
              "      <td>9.000000</td>\n",
              "      <td>NaN</td>\n",
              "    </tr>\n",
              "  </tbody>\n",
              "</table>\n",
              "</div>\n",
              "      <button class=\"colab-df-convert\" onclick=\"convertToInteractive('df-ae1a5cef-8024-4ba8-8baf-0f43ddee6d6b')\"\n",
              "              title=\"Convert this dataframe to an interactive table.\"\n",
              "              style=\"display:none;\">\n",
              "        \n",
              "  <svg xmlns=\"http://www.w3.org/2000/svg\" height=\"24px\"viewBox=\"0 0 24 24\"\n",
              "       width=\"24px\">\n",
              "    <path d=\"M0 0h24v24H0V0z\" fill=\"none\"/>\n",
              "    <path d=\"M18.56 5.44l.94 2.06.94-2.06 2.06-.94-2.06-.94-.94-2.06-.94 2.06-2.06.94zm-11 1L8.5 8.5l.94-2.06 2.06-.94-2.06-.94L8.5 2.5l-.94 2.06-2.06.94zm10 10l.94 2.06.94-2.06 2.06-.94-2.06-.94-.94-2.06-.94 2.06-2.06.94z\"/><path d=\"M17.41 7.96l-1.37-1.37c-.4-.4-.92-.59-1.43-.59-.52 0-1.04.2-1.43.59L10.3 9.45l-7.72 7.72c-.78.78-.78 2.05 0 2.83L4 21.41c.39.39.9.59 1.41.59.51 0 1.02-.2 1.41-.59l7.78-7.78 2.81-2.81c.8-.78.8-2.07 0-2.86zM5.41 20L4 18.59l7.72-7.72 1.47 1.35L5.41 20z\"/>\n",
              "  </svg>\n",
              "      </button>\n",
              "      \n",
              "  <style>\n",
              "    .colab-df-container {\n",
              "      display:flex;\n",
              "      flex-wrap:wrap;\n",
              "      gap: 12px;\n",
              "    }\n",
              "\n",
              "    .colab-df-convert {\n",
              "      background-color: #E8F0FE;\n",
              "      border: none;\n",
              "      border-radius: 50%;\n",
              "      cursor: pointer;\n",
              "      display: none;\n",
              "      fill: #1967D2;\n",
              "      height: 32px;\n",
              "      padding: 0 0 0 0;\n",
              "      width: 32px;\n",
              "    }\n",
              "\n",
              "    .colab-df-convert:hover {\n",
              "      background-color: #E2EBFA;\n",
              "      box-shadow: 0px 1px 2px rgba(60, 64, 67, 0.3), 0px 1px 3px 1px rgba(60, 64, 67, 0.15);\n",
              "      fill: #174EA6;\n",
              "    }\n",
              "\n",
              "    [theme=dark] .colab-df-convert {\n",
              "      background-color: #3B4455;\n",
              "      fill: #D2E3FC;\n",
              "    }\n",
              "\n",
              "    [theme=dark] .colab-df-convert:hover {\n",
              "      background-color: #434B5C;\n",
              "      box-shadow: 0px 1px 3px 1px rgba(0, 0, 0, 0.15);\n",
              "      filter: drop-shadow(0px 1px 2px rgba(0, 0, 0, 0.3));\n",
              "      fill: #FFFFFF;\n",
              "    }\n",
              "  </style>\n",
              "\n",
              "      <script>\n",
              "        const buttonEl =\n",
              "          document.querySelector('#df-ae1a5cef-8024-4ba8-8baf-0f43ddee6d6b button.colab-df-convert');\n",
              "        buttonEl.style.display =\n",
              "          google.colab.kernel.accessAllowed ? 'block' : 'none';\n",
              "\n",
              "        async function convertToInteractive(key) {\n",
              "          const element = document.querySelector('#df-ae1a5cef-8024-4ba8-8baf-0f43ddee6d6b');\n",
              "          const dataTable =\n",
              "            await google.colab.kernel.invokeFunction('convertToInteractive',\n",
              "                                                     [key], {});\n",
              "          if (!dataTable) return;\n",
              "\n",
              "          const docLinkHtml = 'Like what you see? Visit the ' +\n",
              "            '<a target=\"_blank\" href=https://colab.research.google.com/notebooks/data_table.ipynb>data table notebook</a>'\n",
              "            + ' to learn more about interactive tables.';\n",
              "          element.innerHTML = '';\n",
              "          dataTable['output_type'] = 'display_data';\n",
              "          await google.colab.output.renderOutput(dataTable, element);\n",
              "          const docLink = document.createElement('div');\n",
              "          docLink.innerHTML = docLinkHtml;\n",
              "          element.appendChild(docLink);\n",
              "        }\n",
              "      </script>\n",
              "    </div>\n",
              "  </div>\n",
              "  "
            ]
          },
          "metadata": {},
          "execution_count": 11
        }
      ],
      "source": [
        "#describing every column of the dataset\n",
        "df.describe(include = 'all' )"
      ]
    },
    {
      "cell_type": "markdown",
      "metadata": {
        "id": "3x88fTC--bpa"
      },
      "source": [
        "On obseving the values we can check the type of distribution it has ,whether outlier is present or not\n",
        "\n",
        "eg. lets check Account length:\n",
        "\n",
        "here the mean value and 50% value is same  and the difference between 75% value and max value is quite big means there is outlier on right side so , the graph wil be positively or right side skewed."
      ]
    },
    {
      "cell_type": "markdown",
      "source": [
        "# Data Analysis\n",
        "\n",
        "---\n",
        "\n",
        "\n",
        "\n",
        "---\n",
        "\n"
      ],
      "metadata": {
        "id": "M0kUoHGms7ed"
      }
    },
    {
      "cell_type": "code",
      "execution_count": null,
      "metadata": {
        "colab": {
          "base_uri": "https://localhost:8080/",
          "height": 1000
        },
        "id": "KyoaezgwftlX",
        "outputId": "e366d5c9-1ba4-42e4-e9d3-ed17cd3bae08"
      },
      "outputs": [
        {
          "output_type": "execute_result",
          "data": {
            "text/plain": [
              "                        Account length  Area code  Number vmail messages  \\\n",
              "Account length                1.000000  -0.012463              -0.004628   \n",
              "Area code                    -0.012463   1.000000              -0.001994   \n",
              "Number vmail messages        -0.004628  -0.001994               1.000000   \n",
              "Total day minutes             0.006216  -0.008264               0.000778   \n",
              "Total day calls               0.038470  -0.009646              -0.009548   \n",
              "Total day charge              0.006214  -0.008264               0.000776   \n",
              "Total eve minutes            -0.006757   0.003580               0.017562   \n",
              "Total eve calls               0.019260  -0.011886              -0.005864   \n",
              "Total eve charge             -0.006745   0.003607               0.017578   \n",
              "Total night minutes          -0.008955  -0.005825               0.007681   \n",
              "Total night calls            -0.013176   0.016522               0.007123   \n",
              "Total night charge           -0.008960  -0.005845               0.007663   \n",
              "Total intl minutes            0.009514  -0.018288               0.002856   \n",
              "Total intl calls              0.020661  -0.024179               0.013957   \n",
              "Total intl charge             0.009546  -0.018395               0.002884   \n",
              "Customer service calls       -0.003796   0.027572              -0.013263   \n",
              "Churn                         0.016541   0.006174              -0.089728   \n",
              "\n",
              "                        Total day minutes  Total day calls  Total day charge  \\\n",
              "Account length                   0.006216         0.038470          0.006214   \n",
              "Area code                       -0.008264        -0.009646         -0.008264   \n",
              "Number vmail messages            0.000778        -0.009548          0.000776   \n",
              "Total day minutes                1.000000         0.006750          1.000000   \n",
              "Total day calls                  0.006750         1.000000          0.006753   \n",
              "Total day charge                 1.000000         0.006753          1.000000   \n",
              "Total eve minutes                0.007043        -0.021451          0.007050   \n",
              "Total eve calls                  0.015769         0.006462          0.015769   \n",
              "Total eve charge                 0.007029        -0.021449          0.007036   \n",
              "Total night minutes              0.004323         0.022938          0.004324   \n",
              "Total night calls                0.022972        -0.019557          0.022972   \n",
              "Total night charge               0.004300         0.022927          0.004301   \n",
              "Total intl minutes              -0.010155         0.021565         -0.010157   \n",
              "Total intl calls                 0.008033         0.004574          0.008032   \n",
              "Total intl charge               -0.010092         0.021666         -0.010094   \n",
              "Customer service calls          -0.013423        -0.018942         -0.013427   \n",
              "Churn                            0.205151         0.018459          0.205151   \n",
              "\n",
              "                        Total eve minutes  Total eve calls  Total eve charge  \\\n",
              "Account length                  -0.006757         0.019260         -0.006745   \n",
              "Area code                        0.003580        -0.011886          0.003607   \n",
              "Number vmail messages            0.017562        -0.005864          0.017578   \n",
              "Total day minutes                0.007043         0.015769          0.007029   \n",
              "Total day calls                 -0.021451         0.006462         -0.021449   \n",
              "Total day charge                 0.007050         0.015769          0.007036   \n",
              "Total eve minutes                1.000000        -0.011430          1.000000   \n",
              "Total eve calls                 -0.011430         1.000000         -0.011423   \n",
              "Total eve charge                 1.000000        -0.011423          1.000000   \n",
              "Total night minutes             -0.012584        -0.002093         -0.012592   \n",
              "Total night calls                0.007586         0.007710          0.007596   \n",
              "Total night charge              -0.012593        -0.002056         -0.012601   \n",
              "Total intl minutes              -0.011035         0.008703         -0.011043   \n",
              "Total intl calls                 0.002541         0.017434          0.002541   \n",
              "Total intl charge               -0.011067         0.008674         -0.011074   \n",
              "Customer service calls          -0.012985         0.002423         -0.012987   \n",
              "Churn                            0.092796         0.009233          0.092786   \n",
              "\n",
              "                        Total night minutes  Total night calls  \\\n",
              "Account length                    -0.008955          -0.013176   \n",
              "Area code                         -0.005825           0.016522   \n",
              "Number vmail messages              0.007681           0.007123   \n",
              "Total day minutes                  0.004323           0.022972   \n",
              "Total day calls                    0.022938          -0.019557   \n",
              "Total day charge                   0.004324           0.022972   \n",
              "Total eve minutes                 -0.012584           0.007586   \n",
              "Total eve calls                   -0.002093           0.007710   \n",
              "Total eve charge                  -0.012592           0.007596   \n",
              "Total night minutes                1.000000           0.011204   \n",
              "Total night calls                  0.011204           1.000000   \n",
              "Total night charge                 0.999999           0.011188   \n",
              "Total intl minutes                -0.015207          -0.013605   \n",
              "Total intl calls                  -0.012353           0.000305   \n",
              "Total intl charge                 -0.015180          -0.013630   \n",
              "Customer service calls            -0.009288          -0.012802   \n",
              "Churn                              0.035493           0.006141   \n",
              "\n",
              "                        Total night charge  Total intl minutes  \\\n",
              "Account length                   -0.008960            0.009514   \n",
              "Area code                        -0.005845           -0.018288   \n",
              "Number vmail messages             0.007663            0.002856   \n",
              "Total day minutes                 0.004300           -0.010155   \n",
              "Total day calls                   0.022927            0.021565   \n",
              "Total day charge                  0.004301           -0.010157   \n",
              "Total eve minutes                -0.012593           -0.011035   \n",
              "Total eve calls                  -0.002056            0.008703   \n",
              "Total eve charge                 -0.012601           -0.011043   \n",
              "Total night minutes               0.999999           -0.015207   \n",
              "Total night calls                 0.011188           -0.013605   \n",
              "Total night charge                1.000000           -0.015214   \n",
              "Total intl minutes               -0.015214            1.000000   \n",
              "Total intl calls                 -0.012329            0.032304   \n",
              "Total intl charge                -0.015186            0.999993   \n",
              "Customer service calls           -0.009277           -0.009640   \n",
              "Churn                             0.035496            0.068239   \n",
              "\n",
              "                        Total intl calls  Total intl charge  \\\n",
              "Account length                  0.020661           0.009546   \n",
              "Area code                      -0.024179          -0.018395   \n",
              "Number vmail messages           0.013957           0.002884   \n",
              "Total day minutes               0.008033          -0.010092   \n",
              "Total day calls                 0.004574           0.021666   \n",
              "Total day charge                0.008032          -0.010094   \n",
              "Total eve minutes               0.002541          -0.011067   \n",
              "Total eve calls                 0.017434           0.008674   \n",
              "Total eve charge                0.002541          -0.011074   \n",
              "Total night minutes            -0.012353          -0.015180   \n",
              "Total night calls               0.000305          -0.013630   \n",
              "Total night charge             -0.012329          -0.015186   \n",
              "Total intl minutes              0.032304           0.999993   \n",
              "Total intl calls                1.000000           0.032372   \n",
              "Total intl charge               0.032372           1.000000   \n",
              "Customer service calls         -0.017561          -0.009675   \n",
              "Churn                          -0.052844           0.068259   \n",
              "\n",
              "                        Customer service calls     Churn  \n",
              "Account length                       -0.003796  0.016541  \n",
              "Area code                             0.027572  0.006174  \n",
              "Number vmail messages                -0.013263 -0.089728  \n",
              "Total day minutes                    -0.013423  0.205151  \n",
              "Total day calls                      -0.018942  0.018459  \n",
              "Total day charge                     -0.013427  0.205151  \n",
              "Total eve minutes                    -0.012985  0.092796  \n",
              "Total eve calls                       0.002423  0.009233  \n",
              "Total eve charge                     -0.012987  0.092786  \n",
              "Total night minutes                  -0.009288  0.035493  \n",
              "Total night calls                    -0.012802  0.006141  \n",
              "Total night charge                   -0.009277  0.035496  \n",
              "Total intl minutes                   -0.009640  0.068239  \n",
              "Total intl calls                     -0.017561 -0.052844  \n",
              "Total intl charge                    -0.009675  0.068259  \n",
              "Customer service calls                1.000000  0.208750  \n",
              "Churn                                 0.208750  1.000000  "
            ],
            "text/html": [
              "\n",
              "  <div id=\"df-3b91802e-3848-428d-ab72-f7ab7ed95866\">\n",
              "    <div class=\"colab-df-container\">\n",
              "      <div>\n",
              "<style scoped>\n",
              "    .dataframe tbody tr th:only-of-type {\n",
              "        vertical-align: middle;\n",
              "    }\n",
              "\n",
              "    .dataframe tbody tr th {\n",
              "        vertical-align: top;\n",
              "    }\n",
              "\n",
              "    .dataframe thead th {\n",
              "        text-align: right;\n",
              "    }\n",
              "</style>\n",
              "<table border=\"1\" class=\"dataframe\">\n",
              "  <thead>\n",
              "    <tr style=\"text-align: right;\">\n",
              "      <th></th>\n",
              "      <th>Account length</th>\n",
              "      <th>Area code</th>\n",
              "      <th>Number vmail messages</th>\n",
              "      <th>Total day minutes</th>\n",
              "      <th>Total day calls</th>\n",
              "      <th>Total day charge</th>\n",
              "      <th>Total eve minutes</th>\n",
              "      <th>Total eve calls</th>\n",
              "      <th>Total eve charge</th>\n",
              "      <th>Total night minutes</th>\n",
              "      <th>Total night calls</th>\n",
              "      <th>Total night charge</th>\n",
              "      <th>Total intl minutes</th>\n",
              "      <th>Total intl calls</th>\n",
              "      <th>Total intl charge</th>\n",
              "      <th>Customer service calls</th>\n",
              "      <th>Churn</th>\n",
              "    </tr>\n",
              "  </thead>\n",
              "  <tbody>\n",
              "    <tr>\n",
              "      <th>Account length</th>\n",
              "      <td>1.000000</td>\n",
              "      <td>-0.012463</td>\n",
              "      <td>-0.004628</td>\n",
              "      <td>0.006216</td>\n",
              "      <td>0.038470</td>\n",
              "      <td>0.006214</td>\n",
              "      <td>-0.006757</td>\n",
              "      <td>0.019260</td>\n",
              "      <td>-0.006745</td>\n",
              "      <td>-0.008955</td>\n",
              "      <td>-0.013176</td>\n",
              "      <td>-0.008960</td>\n",
              "      <td>0.009514</td>\n",
              "      <td>0.020661</td>\n",
              "      <td>0.009546</td>\n",
              "      <td>-0.003796</td>\n",
              "      <td>0.016541</td>\n",
              "    </tr>\n",
              "    <tr>\n",
              "      <th>Area code</th>\n",
              "      <td>-0.012463</td>\n",
              "      <td>1.000000</td>\n",
              "      <td>-0.001994</td>\n",
              "      <td>-0.008264</td>\n",
              "      <td>-0.009646</td>\n",
              "      <td>-0.008264</td>\n",
              "      <td>0.003580</td>\n",
              "      <td>-0.011886</td>\n",
              "      <td>0.003607</td>\n",
              "      <td>-0.005825</td>\n",
              "      <td>0.016522</td>\n",
              "      <td>-0.005845</td>\n",
              "      <td>-0.018288</td>\n",
              "      <td>-0.024179</td>\n",
              "      <td>-0.018395</td>\n",
              "      <td>0.027572</td>\n",
              "      <td>0.006174</td>\n",
              "    </tr>\n",
              "    <tr>\n",
              "      <th>Number vmail messages</th>\n",
              "      <td>-0.004628</td>\n",
              "      <td>-0.001994</td>\n",
              "      <td>1.000000</td>\n",
              "      <td>0.000778</td>\n",
              "      <td>-0.009548</td>\n",
              "      <td>0.000776</td>\n",
              "      <td>0.017562</td>\n",
              "      <td>-0.005864</td>\n",
              "      <td>0.017578</td>\n",
              "      <td>0.007681</td>\n",
              "      <td>0.007123</td>\n",
              "      <td>0.007663</td>\n",
              "      <td>0.002856</td>\n",
              "      <td>0.013957</td>\n",
              "      <td>0.002884</td>\n",
              "      <td>-0.013263</td>\n",
              "      <td>-0.089728</td>\n",
              "    </tr>\n",
              "    <tr>\n",
              "      <th>Total day minutes</th>\n",
              "      <td>0.006216</td>\n",
              "      <td>-0.008264</td>\n",
              "      <td>0.000778</td>\n",
              "      <td>1.000000</td>\n",
              "      <td>0.006750</td>\n",
              "      <td>1.000000</td>\n",
              "      <td>0.007043</td>\n",
              "      <td>0.015769</td>\n",
              "      <td>0.007029</td>\n",
              "      <td>0.004323</td>\n",
              "      <td>0.022972</td>\n",
              "      <td>0.004300</td>\n",
              "      <td>-0.010155</td>\n",
              "      <td>0.008033</td>\n",
              "      <td>-0.010092</td>\n",
              "      <td>-0.013423</td>\n",
              "      <td>0.205151</td>\n",
              "    </tr>\n",
              "    <tr>\n",
              "      <th>Total day calls</th>\n",
              "      <td>0.038470</td>\n",
              "      <td>-0.009646</td>\n",
              "      <td>-0.009548</td>\n",
              "      <td>0.006750</td>\n",
              "      <td>1.000000</td>\n",
              "      <td>0.006753</td>\n",
              "      <td>-0.021451</td>\n",
              "      <td>0.006462</td>\n",
              "      <td>-0.021449</td>\n",
              "      <td>0.022938</td>\n",
              "      <td>-0.019557</td>\n",
              "      <td>0.022927</td>\n",
              "      <td>0.021565</td>\n",
              "      <td>0.004574</td>\n",
              "      <td>0.021666</td>\n",
              "      <td>-0.018942</td>\n",
              "      <td>0.018459</td>\n",
              "    </tr>\n",
              "    <tr>\n",
              "      <th>Total day charge</th>\n",
              "      <td>0.006214</td>\n",
              "      <td>-0.008264</td>\n",
              "      <td>0.000776</td>\n",
              "      <td>1.000000</td>\n",
              "      <td>0.006753</td>\n",
              "      <td>1.000000</td>\n",
              "      <td>0.007050</td>\n",
              "      <td>0.015769</td>\n",
              "      <td>0.007036</td>\n",
              "      <td>0.004324</td>\n",
              "      <td>0.022972</td>\n",
              "      <td>0.004301</td>\n",
              "      <td>-0.010157</td>\n",
              "      <td>0.008032</td>\n",
              "      <td>-0.010094</td>\n",
              "      <td>-0.013427</td>\n",
              "      <td>0.205151</td>\n",
              "    </tr>\n",
              "    <tr>\n",
              "      <th>Total eve minutes</th>\n",
              "      <td>-0.006757</td>\n",
              "      <td>0.003580</td>\n",
              "      <td>0.017562</td>\n",
              "      <td>0.007043</td>\n",
              "      <td>-0.021451</td>\n",
              "      <td>0.007050</td>\n",
              "      <td>1.000000</td>\n",
              "      <td>-0.011430</td>\n",
              "      <td>1.000000</td>\n",
              "      <td>-0.012584</td>\n",
              "      <td>0.007586</td>\n",
              "      <td>-0.012593</td>\n",
              "      <td>-0.011035</td>\n",
              "      <td>0.002541</td>\n",
              "      <td>-0.011067</td>\n",
              "      <td>-0.012985</td>\n",
              "      <td>0.092796</td>\n",
              "    </tr>\n",
              "    <tr>\n",
              "      <th>Total eve calls</th>\n",
              "      <td>0.019260</td>\n",
              "      <td>-0.011886</td>\n",
              "      <td>-0.005864</td>\n",
              "      <td>0.015769</td>\n",
              "      <td>0.006462</td>\n",
              "      <td>0.015769</td>\n",
              "      <td>-0.011430</td>\n",
              "      <td>1.000000</td>\n",
              "      <td>-0.011423</td>\n",
              "      <td>-0.002093</td>\n",
              "      <td>0.007710</td>\n",
              "      <td>-0.002056</td>\n",
              "      <td>0.008703</td>\n",
              "      <td>0.017434</td>\n",
              "      <td>0.008674</td>\n",
              "      <td>0.002423</td>\n",
              "      <td>0.009233</td>\n",
              "    </tr>\n",
              "    <tr>\n",
              "      <th>Total eve charge</th>\n",
              "      <td>-0.006745</td>\n",
              "      <td>0.003607</td>\n",
              "      <td>0.017578</td>\n",
              "      <td>0.007029</td>\n",
              "      <td>-0.021449</td>\n",
              "      <td>0.007036</td>\n",
              "      <td>1.000000</td>\n",
              "      <td>-0.011423</td>\n",
              "      <td>1.000000</td>\n",
              "      <td>-0.012592</td>\n",
              "      <td>0.007596</td>\n",
              "      <td>-0.012601</td>\n",
              "      <td>-0.011043</td>\n",
              "      <td>0.002541</td>\n",
              "      <td>-0.011074</td>\n",
              "      <td>-0.012987</td>\n",
              "      <td>0.092786</td>\n",
              "    </tr>\n",
              "    <tr>\n",
              "      <th>Total night minutes</th>\n",
              "      <td>-0.008955</td>\n",
              "      <td>-0.005825</td>\n",
              "      <td>0.007681</td>\n",
              "      <td>0.004323</td>\n",
              "      <td>0.022938</td>\n",
              "      <td>0.004324</td>\n",
              "      <td>-0.012584</td>\n",
              "      <td>-0.002093</td>\n",
              "      <td>-0.012592</td>\n",
              "      <td>1.000000</td>\n",
              "      <td>0.011204</td>\n",
              "      <td>0.999999</td>\n",
              "      <td>-0.015207</td>\n",
              "      <td>-0.012353</td>\n",
              "      <td>-0.015180</td>\n",
              "      <td>-0.009288</td>\n",
              "      <td>0.035493</td>\n",
              "    </tr>\n",
              "    <tr>\n",
              "      <th>Total night calls</th>\n",
              "      <td>-0.013176</td>\n",
              "      <td>0.016522</td>\n",
              "      <td>0.007123</td>\n",
              "      <td>0.022972</td>\n",
              "      <td>-0.019557</td>\n",
              "      <td>0.022972</td>\n",
              "      <td>0.007586</td>\n",
              "      <td>0.007710</td>\n",
              "      <td>0.007596</td>\n",
              "      <td>0.011204</td>\n",
              "      <td>1.000000</td>\n",
              "      <td>0.011188</td>\n",
              "      <td>-0.013605</td>\n",
              "      <td>0.000305</td>\n",
              "      <td>-0.013630</td>\n",
              "      <td>-0.012802</td>\n",
              "      <td>0.006141</td>\n",
              "    </tr>\n",
              "    <tr>\n",
              "      <th>Total night charge</th>\n",
              "      <td>-0.008960</td>\n",
              "      <td>-0.005845</td>\n",
              "      <td>0.007663</td>\n",
              "      <td>0.004300</td>\n",
              "      <td>0.022927</td>\n",
              "      <td>0.004301</td>\n",
              "      <td>-0.012593</td>\n",
              "      <td>-0.002056</td>\n",
              "      <td>-0.012601</td>\n",
              "      <td>0.999999</td>\n",
              "      <td>0.011188</td>\n",
              "      <td>1.000000</td>\n",
              "      <td>-0.015214</td>\n",
              "      <td>-0.012329</td>\n",
              "      <td>-0.015186</td>\n",
              "      <td>-0.009277</td>\n",
              "      <td>0.035496</td>\n",
              "    </tr>\n",
              "    <tr>\n",
              "      <th>Total intl minutes</th>\n",
              "      <td>0.009514</td>\n",
              "      <td>-0.018288</td>\n",
              "      <td>0.002856</td>\n",
              "      <td>-0.010155</td>\n",
              "      <td>0.021565</td>\n",
              "      <td>-0.010157</td>\n",
              "      <td>-0.011035</td>\n",
              "      <td>0.008703</td>\n",
              "      <td>-0.011043</td>\n",
              "      <td>-0.015207</td>\n",
              "      <td>-0.013605</td>\n",
              "      <td>-0.015214</td>\n",
              "      <td>1.000000</td>\n",
              "      <td>0.032304</td>\n",
              "      <td>0.999993</td>\n",
              "      <td>-0.009640</td>\n",
              "      <td>0.068239</td>\n",
              "    </tr>\n",
              "    <tr>\n",
              "      <th>Total intl calls</th>\n",
              "      <td>0.020661</td>\n",
              "      <td>-0.024179</td>\n",
              "      <td>0.013957</td>\n",
              "      <td>0.008033</td>\n",
              "      <td>0.004574</td>\n",
              "      <td>0.008032</td>\n",
              "      <td>0.002541</td>\n",
              "      <td>0.017434</td>\n",
              "      <td>0.002541</td>\n",
              "      <td>-0.012353</td>\n",
              "      <td>0.000305</td>\n",
              "      <td>-0.012329</td>\n",
              "      <td>0.032304</td>\n",
              "      <td>1.000000</td>\n",
              "      <td>0.032372</td>\n",
              "      <td>-0.017561</td>\n",
              "      <td>-0.052844</td>\n",
              "    </tr>\n",
              "    <tr>\n",
              "      <th>Total intl charge</th>\n",
              "      <td>0.009546</td>\n",
              "      <td>-0.018395</td>\n",
              "      <td>0.002884</td>\n",
              "      <td>-0.010092</td>\n",
              "      <td>0.021666</td>\n",
              "      <td>-0.010094</td>\n",
              "      <td>-0.011067</td>\n",
              "      <td>0.008674</td>\n",
              "      <td>-0.011074</td>\n",
              "      <td>-0.015180</td>\n",
              "      <td>-0.013630</td>\n",
              "      <td>-0.015186</td>\n",
              "      <td>0.999993</td>\n",
              "      <td>0.032372</td>\n",
              "      <td>1.000000</td>\n",
              "      <td>-0.009675</td>\n",
              "      <td>0.068259</td>\n",
              "    </tr>\n",
              "    <tr>\n",
              "      <th>Customer service calls</th>\n",
              "      <td>-0.003796</td>\n",
              "      <td>0.027572</td>\n",
              "      <td>-0.013263</td>\n",
              "      <td>-0.013423</td>\n",
              "      <td>-0.018942</td>\n",
              "      <td>-0.013427</td>\n",
              "      <td>-0.012985</td>\n",
              "      <td>0.002423</td>\n",
              "      <td>-0.012987</td>\n",
              "      <td>-0.009288</td>\n",
              "      <td>-0.012802</td>\n",
              "      <td>-0.009277</td>\n",
              "      <td>-0.009640</td>\n",
              "      <td>-0.017561</td>\n",
              "      <td>-0.009675</td>\n",
              "      <td>1.000000</td>\n",
              "      <td>0.208750</td>\n",
              "    </tr>\n",
              "    <tr>\n",
              "      <th>Churn</th>\n",
              "      <td>0.016541</td>\n",
              "      <td>0.006174</td>\n",
              "      <td>-0.089728</td>\n",
              "      <td>0.205151</td>\n",
              "      <td>0.018459</td>\n",
              "      <td>0.205151</td>\n",
              "      <td>0.092796</td>\n",
              "      <td>0.009233</td>\n",
              "      <td>0.092786</td>\n",
              "      <td>0.035493</td>\n",
              "      <td>0.006141</td>\n",
              "      <td>0.035496</td>\n",
              "      <td>0.068239</td>\n",
              "      <td>-0.052844</td>\n",
              "      <td>0.068259</td>\n",
              "      <td>0.208750</td>\n",
              "      <td>1.000000</td>\n",
              "    </tr>\n",
              "  </tbody>\n",
              "</table>\n",
              "</div>\n",
              "      <button class=\"colab-df-convert\" onclick=\"convertToInteractive('df-3b91802e-3848-428d-ab72-f7ab7ed95866')\"\n",
              "              title=\"Convert this dataframe to an interactive table.\"\n",
              "              style=\"display:none;\">\n",
              "        \n",
              "  <svg xmlns=\"http://www.w3.org/2000/svg\" height=\"24px\"viewBox=\"0 0 24 24\"\n",
              "       width=\"24px\">\n",
              "    <path d=\"M0 0h24v24H0V0z\" fill=\"none\"/>\n",
              "    <path d=\"M18.56 5.44l.94 2.06.94-2.06 2.06-.94-2.06-.94-.94-2.06-.94 2.06-2.06.94zm-11 1L8.5 8.5l.94-2.06 2.06-.94-2.06-.94L8.5 2.5l-.94 2.06-2.06.94zm10 10l.94 2.06.94-2.06 2.06-.94-2.06-.94-.94-2.06-.94 2.06-2.06.94z\"/><path d=\"M17.41 7.96l-1.37-1.37c-.4-.4-.92-.59-1.43-.59-.52 0-1.04.2-1.43.59L10.3 9.45l-7.72 7.72c-.78.78-.78 2.05 0 2.83L4 21.41c.39.39.9.59 1.41.59.51 0 1.02-.2 1.41-.59l7.78-7.78 2.81-2.81c.8-.78.8-2.07 0-2.86zM5.41 20L4 18.59l7.72-7.72 1.47 1.35L5.41 20z\"/>\n",
              "  </svg>\n",
              "      </button>\n",
              "      \n",
              "  <style>\n",
              "    .colab-df-container {\n",
              "      display:flex;\n",
              "      flex-wrap:wrap;\n",
              "      gap: 12px;\n",
              "    }\n",
              "\n",
              "    .colab-df-convert {\n",
              "      background-color: #E8F0FE;\n",
              "      border: none;\n",
              "      border-radius: 50%;\n",
              "      cursor: pointer;\n",
              "      display: none;\n",
              "      fill: #1967D2;\n",
              "      height: 32px;\n",
              "      padding: 0 0 0 0;\n",
              "      width: 32px;\n",
              "    }\n",
              "\n",
              "    .colab-df-convert:hover {\n",
              "      background-color: #E2EBFA;\n",
              "      box-shadow: 0px 1px 2px rgba(60, 64, 67, 0.3), 0px 1px 3px 1px rgba(60, 64, 67, 0.15);\n",
              "      fill: #174EA6;\n",
              "    }\n",
              "\n",
              "    [theme=dark] .colab-df-convert {\n",
              "      background-color: #3B4455;\n",
              "      fill: #D2E3FC;\n",
              "    }\n",
              "\n",
              "    [theme=dark] .colab-df-convert:hover {\n",
              "      background-color: #434B5C;\n",
              "      box-shadow: 0px 1px 3px 1px rgba(0, 0, 0, 0.15);\n",
              "      filter: drop-shadow(0px 1px 2px rgba(0, 0, 0, 0.3));\n",
              "      fill: #FFFFFF;\n",
              "    }\n",
              "  </style>\n",
              "\n",
              "      <script>\n",
              "        const buttonEl =\n",
              "          document.querySelector('#df-3b91802e-3848-428d-ab72-f7ab7ed95866 button.colab-df-convert');\n",
              "        buttonEl.style.display =\n",
              "          google.colab.kernel.accessAllowed ? 'block' : 'none';\n",
              "\n",
              "        async function convertToInteractive(key) {\n",
              "          const element = document.querySelector('#df-3b91802e-3848-428d-ab72-f7ab7ed95866');\n",
              "          const dataTable =\n",
              "            await google.colab.kernel.invokeFunction('convertToInteractive',\n",
              "                                                     [key], {});\n",
              "          if (!dataTable) return;\n",
              "\n",
              "          const docLinkHtml = 'Like what you see? Visit the ' +\n",
              "            '<a target=\"_blank\" href=https://colab.research.google.com/notebooks/data_table.ipynb>data table notebook</a>'\n",
              "            + ' to learn more about interactive tables.';\n",
              "          element.innerHTML = '';\n",
              "          dataTable['output_type'] = 'display_data';\n",
              "          await google.colab.output.renderOutput(dataTable, element);\n",
              "          const docLink = document.createElement('div');\n",
              "          docLink.innerHTML = docLinkHtml;\n",
              "          element.appendChild(docLink);\n",
              "        }\n",
              "      </script>\n",
              "    </div>\n",
              "  </div>\n",
              "  "
            ]
          },
          "metadata": {},
          "execution_count": 12
        }
      ],
      "source": [
        "#Check the correlation between different columns\n",
        "df.corr()\n"
      ]
    },
    {
      "cell_type": "code",
      "source": [
        "sns.heatmap(df.corr(), vmin=-1, vmax=1, annot=True)\n",
        "plt.rcParams['figure.figsize']=(19,9)"
      ],
      "metadata": {
        "colab": {
          "base_uri": "https://localhost:8080/",
          "height": 383
        },
        "id": "1n9Xn25ub-DQ",
        "outputId": "5cf61843-9a03-4b33-e89b-d2aee8a3c18f"
      },
      "execution_count": null,
      "outputs": [
        {
          "output_type": "display_data",
          "data": {
            "text/plain": [
              "<Figure size 432x288 with 2 Axes>"
            ],
            "image/png": "[encoded data removed]"
          },
          "metadata": {
            "needs_background": "light"
          }
        }
      ]
    },
    {
      "cell_type": "markdown",
      "source": [
        "By checking the correlation we can say which column is having what type effect on the other \n",
        " \n",
        " The correlation may either be positive or negative\n",
        "\n",
        " * Positive correlation is when one directly related to another\n",
        " * Negative relation is when there is inverse relation between the two columns"
      ],
      "metadata": {
        "id": "vzM4h16adS_X"
      }
    },
    {
      "cell_type": "markdown",
      "metadata": {
        "id": "7STP4DooYo2t"
      },
      "source": [
        "**Dependable variable is Churn**"
      ]
    },
    {
      "cell_type": "code",
      "execution_count": null,
      "metadata": {
        "colab": {
          "base_uri": "https://localhost:8080/"
        },
        "id": "iYety_MIXvRM",
        "outputId": "26bb527b-445e-4951-daf2-e2f35816bbee"
      },
      "outputs": [
        {
          "output_type": "execute_result",
          "data": {
            "text/plain": [
              "array([False,  True])"
            ]
          },
          "metadata": {},
          "execution_count": 14
        }
      ],
      "source": [
        "#values present in Churn column\n",
        "df['Churn'].unique()"
      ]
    },
    {
      "cell_type": "code",
      "execution_count": null,
      "metadata": {
        "colab": {
          "base_uri": "https://localhost:8080/"
        },
        "id": "DMx4cnKTY4Fg",
        "outputId": "d43d6485-66db-4ed2-c811-5c678a4df69c"
      },
      "outputs": [
        {
          "output_type": "execute_result",
          "data": {
            "text/plain": [
              "False    2850\n",
              "True      483\n",
              "Name: Churn, dtype: int64"
            ]
          },
          "metadata": {},
          "execution_count": 15
        }
      ],
      "source": [
        "#count of true and false present\n",
        "df['Churn'].value_counts()\n"
      ]
    },
    {
      "cell_type": "markdown",
      "metadata": {
        "id": "5XK81JubVF1G"
      },
      "source": [
        "out of 3333 rows :  2850 rows has no churn and 483 of them is getting churned"
      ]
    },
    {
      "cell_type": "code",
      "execution_count": null,
      "metadata": {
        "colab": {
          "base_uri": "https://localhost:8080/",
          "height": 568
        },
        "id": "GfQO89dJZ5mh",
        "outputId": "a9de5f55-cf29-4974-ff5a-217e5be11f05"
      },
      "outputs": [
        {
          "output_type": "execute_result",
          "data": {
            "text/plain": [
              "<matplotlib.axes._subplots.AxesSubplot at 0x7f90206d17f0>"
            ]
          },
          "metadata": {},
          "execution_count": 16
        },
        {
          "output_type": "display_data",
          "data": {
            "text/plain": [
              "<Figure size 1368x648 with 1 Axes>"
            ],
            "image/png": "[encoded data removed]"
          },
          "metadata": {
            "needs_background": "light"
          }
        }
      ],
      "source": [
        "#Using seaborn to see the churned graph\n",
        "\n",
        "sns.countplot(x=df.Churn)"
      ]
    },
    {
      "cell_type": "code",
      "execution_count": null,
      "metadata": {
        "colab": {
          "base_uri": "https://localhost:8080/"
        },
        "id": "xKmVqq7bb32F",
        "outputId": "a9590655-bf18-4347-b33e-68e6ad9f87ad"
      },
      "outputs": [
        {
          "output_type": "execute_result",
          "data": {
            "text/plain": [
              "False    85.508551\n",
              "True     14.491449\n",
              "Name: Churn, dtype: float64"
            ]
          },
          "metadata": {},
          "execution_count": 17
        }
      ],
      "source": [
        "#Percentage churn taking place\n",
        "df['Churn'].value_counts()*100/len(df['Churn'])"
      ]
    },
    {
      "cell_type": "markdown",
      "metadata": {
        "id": "oKUgutJfBYuU"
      },
      "source": [
        "*the percentage of churn to take place is 14.49%*\n",
        "*the percentage of churn to not  take place is 85.5%*\n",
        "\n",
        "**now we have to check how is churn being affected by other columns**"
      ]
    },
    {
      "cell_type": "markdown",
      "metadata": {
        "id": "J09C8BhubhQf"
      },
      "source": [
        "Checking relation of other columns with churn"
      ]
    },
    {
      "cell_type": "code",
      "execution_count": null,
      "metadata": {
        "colab": {
          "base_uri": "https://localhost:8080/"
        },
        "id": "0F5EQ8OpbNdK",
        "outputId": "1f9e2a21-c285-40e5-a528-419af399c181"
      },
      "outputs": [
        {
          "output_type": "execute_result",
          "data": {
            "text/plain": [
              "51"
            ]
          },
          "metadata": {},
          "execution_count": 18
        }
      ],
      "source": [
        "# Comparing with State\n",
        "df['State'].nunique()"
      ]
    },
    {
      "cell_type": "code",
      "execution_count": null,
      "metadata": {
        "colab": {
          "base_uri": "https://localhost:8080/",
          "height": 591
        },
        "id": "sD1mLLEafb3z",
        "outputId": "accbe45e-9a8e-4d76-da9d-b63be26aff2c"
      },
      "outputs": [
        {
          "output_type": "execute_result",
          "data": {
            "text/plain": [
              "Text(0.5, 1.0, 'States with churn percentage')"
            ]
          },
          "metadata": {},
          "execution_count": 19
        },
        {
          "output_type": "display_data",
          "data": {
            "text/plain": [
              "<Figure size 1368x648 with 1 Axes>"
            ],
            "image/png": "[encoded data removed]"
          },
          "metadata": {
            "needs_background": "light"
          }
        }
      ],
      "source": [
        "# Graph representing states according to churn percent\n",
        "((df.groupby(['State'])['Churn'].mean())*100).sort_values(ascending = False).plot.bar( color='violet' )\n",
        "plt.rcParams['figure.figsize'] = (18,5)\n",
        "plt.xlabel('State names')\n",
        "plt.ylabel('Churn percentage')\n",
        "plt.title('States with churn percentage')"
      ]
    },
    {
      "cell_type": "code",
      "execution_count": null,
      "metadata": {
        "colab": {
          "base_uri": "https://localhost:8080/"
        },
        "id": "-lJsTD7qhuwO",
        "outputId": "3ca80fde-6330-4a5f-c571-3a4c7b6b1f68"
      },
      "outputs": [
        {
          "output_type": "stream",
          "name": "stdout",
          "text": [
            "State\n",
            "RI    9.230769\n",
            "WI    8.974359\n",
            "IL    8.620690\n",
            "NE    8.196721\n",
            "LA    7.843137\n",
            "IA    6.818182\n",
            "VA    6.493506\n",
            "AZ    6.250000\n",
            "AK    5.769231\n",
            "HI    5.660377\n",
            "Name: Churn, dtype: float64\n"
          ]
        }
      ],
      "source": [
        "# states with maximum churn \n",
        "x = ((df.groupby(['State'])['Churn'].mean())*100).sort_values(ascending= False).tail(10)\n",
        "print(x)"
      ]
    },
    {
      "cell_type": "markdown",
      "metadata": {
        "id": "UjgtMqEvWAMU"
      },
      "source": [
        "*Top 10 states having maximum churn percent have been extracted*"
      ]
    },
    {
      "cell_type": "markdown",
      "metadata": {
        "id": "dstUSo4SnDsI"
      },
      "source": [
        "Area code vs churn"
      ]
    },
    {
      "cell_type": "code",
      "execution_count": null,
      "metadata": {
        "colab": {
          "base_uri": "https://localhost:8080/"
        },
        "id": "j5FdHgZgmxpK",
        "outputId": "16a2e58b-e04d-48d2-8239-1f71f27c6e11"
      },
      "outputs": [
        {
          "output_type": "stream",
          "name": "stdout",
          "text": [
            "Area code\n",
            "510    14.880952\n",
            "408    14.558473\n",
            "415    14.259819\n",
            "Name: Churn, dtype: float64\n"
          ]
        }
      ],
      "source": [
        "# Percentage churn in every area code \n",
        "a= ((df.groupby(['Area code'])['Churn'].mean())*100).sort_values(ascending= False).head()\n",
        "print(a)"
      ]
    },
    {
      "cell_type": "markdown",
      "metadata": {
        "id": "206mDtWpoQa3"
      },
      "source": [
        "*3 unique area codes are present in dataset and all are having almost equal churn percents , so, we can say that  area code is not affecting churn*"
      ]
    },
    {
      "cell_type": "code",
      "execution_count": null,
      "metadata": {
        "colab": {
          "base_uri": "https://localhost:8080/",
          "height": 376
        },
        "id": "kqJwFD9HP3eo",
        "outputId": "83a416bf-0102-43d1-b34d-f0e2ff393960"
      },
      "outputs": [
        {
          "output_type": "execute_result",
          "data": {
            "text/plain": [
              "Text(0.5, 1.0, 'Area code with churn percentage')"
            ]
          },
          "metadata": {},
          "execution_count": 22
        },
        {
          "output_type": "display_data",
          "data": {
            "text/plain": [
              "<Figure size 1296x360 with 1 Axes>"
            ],
            "image/png": "[encoded data removed]"
          },
          "metadata": {
            "needs_background": "light"
          }
        }
      ],
      "source": [
        "#Area code with churn percentage graph\n",
        "((df.groupby(['Area code'])['Churn'].mean())*100).sort_values(ascending = False).plot.bar(color= 'indigo'  )\n",
        "plt.rcParams['figure.figsize'] = (8 , 5)\n",
        "plt.xlabel('Area code')\n",
        "plt.ylabel('Churn percentage')\n",
        "plt.title('Area code with churn percentage')"
      ]
    },
    {
      "cell_type": "markdown",
      "metadata": {
        "id": "o7nHlqtHrUqn"
      },
      "source": [
        "**With Account length** "
      ]
    },
    {
      "cell_type": "code",
      "execution_count": null,
      "metadata": {
        "colab": {
          "base_uri": "https://localhost:8080/"
        },
        "id": "UW8gjH7g5VqP",
        "outputId": "8d44c614-08ce-4ad9-f8dd-c5be34a8c89a"
      },
      "outputs": [
        {
          "output_type": "execute_result",
          "data": {
            "text/plain": [
              "Account length\n",
              "208    100.0\n",
              "2      100.0\n",
              "188    100.0\n",
              "225     50.0\n",
              "224     50.0\n",
              "Name: Churn, dtype: float64"
            ]
          },
          "metadata": {},
          "execution_count": 23
        }
      ],
      "source": [
        "#percentage churn for different account length\n",
        "s2 = (df.groupby(['Account length'])['Churn'].mean()*100).sort_values(ascending=False)\n",
        "s2.head(5)"
      ]
    },
    {
      "cell_type": "code",
      "execution_count": null,
      "metadata": {
        "colab": {
          "base_uri": "https://localhost:8080/",
          "height": 351
        },
        "id": "xXzLXAu2JSM3",
        "outputId": "f756a3fe-ea79-4f08-daa1-b4f3afe11387"
      },
      "outputs": [
        {
          "output_type": "execute_result",
          "data": {
            "text/plain": [
              "<matplotlib.legend.Legend at 0x7f9020cf9730>"
            ]
          },
          "metadata": {},
          "execution_count": 24
        },
        {
          "output_type": "display_data",
          "data": {
            "text/plain": [
              "<Figure size 576x360 with 1 Axes>"
            ],
            "image/png": "[encoded data removed]"
          },
          "metadata": {
            "needs_background": "light"
          }
        }
      ],
      "source": [
        "# as there are 221 unique account length in dataset checking the density distribution of account length getting churned or not\n",
        "sns.distplot(df['Account length'], color='blue', label= 'All')\n",
        "sns.distplot(df[df['Churn']==True]['Account length'], color='green',hist=False, label= 'Churn')\n",
        "sns.distplot(df[df['Churn']==False]['Account length'], color='red', hist=False,label= 'Not Churn')\n",
        "plt.legend()\n"
      ]
    },
    {
      "cell_type": "markdown",
      "source": [
        "**Showing every displot separately**"
      ],
      "metadata": {
        "id": "tWJbIQH7mWTQ"
      }
    },
    {
      "cell_type": "code",
      "execution_count": null,
      "metadata": {
        "colab": {
          "base_uri": "https://localhost:8080/",
          "height": 351
        },
        "id": "KsxZt2BaZPqU",
        "outputId": "622cfbab-8bac-4257-877c-8899180949e8"
      },
      "outputs": [
        {
          "output_type": "execute_result",
          "data": {
            "text/plain": [
              "<matplotlib.axes._subplots.AxesSubplot at 0x7f901ee38f10>"
            ]
          },
          "metadata": {},
          "execution_count": 25
        },
        {
          "output_type": "display_data",
          "data": {
            "text/plain": [
              "<Figure size 576x360 with 1 Axes>"
            ],
            "image/png": "[encoded data removed]"
          },
          "metadata": {
            "needs_background": "light"
          }
        }
      ],
      "source": [
        "# entire acoount length\n",
        "sns.distplot(df['Account length'], color='blue')"
      ]
    },
    {
      "cell_type": "code",
      "execution_count": null,
      "metadata": {
        "colab": {
          "base_uri": "https://localhost:8080/",
          "height": 351
        },
        "id": "h5-9Gu5cZR5w",
        "outputId": "aa3538a0-753a-4595-a89d-bc3b855534f6"
      },
      "outputs": [
        {
          "output_type": "execute_result",
          "data": {
            "text/plain": [
              "<matplotlib.axes._subplots.AxesSubplot at 0x7f901edbb1f0>"
            ]
          },
          "metadata": {},
          "execution_count": 26
        },
        {
          "output_type": "display_data",
          "data": {
            "text/plain": [
              "<Figure size 576x360 with 1 Axes>"
            ],
            "image/png": "[encoded data removed]"
          },
          "metadata": {
            "needs_background": "light"
          }
        }
      ],
      "source": [
        "#  for Account length getting Churned\n",
        "sns.distplot(df[df['Churn']==True]['Account length'], color='green')"
      ]
    },
    {
      "cell_type": "code",
      "execution_count": null,
      "metadata": {
        "colab": {
          "base_uri": "https://localhost:8080/",
          "height": 351
        },
        "id": "1C_WH7RvZbvE",
        "outputId": "0bddee9a-e21a-4b42-feed-3dd01890cad3"
      },
      "outputs": [
        {
          "output_type": "execute_result",
          "data": {
            "text/plain": [
              "<matplotlib.axes._subplots.AxesSubplot at 0x7f901ed304c0>"
            ]
          },
          "metadata": {},
          "execution_count": 27
        },
        {
          "output_type": "display_data",
          "data": {
            "text/plain": [
              "<Figure size 576x360 with 1 Axes>"
            ],
            "image/png": "[encoded data removed]"
          },
          "metadata": {
            "needs_background": "light"
          }
        }
      ],
      "source": [
        "#  for account length not getting churned\n",
        "sns.distplot(df[df['Churn']==False]['Account length'], color='red')"
      ]
    },
    {
      "cell_type": "code",
      "execution_count": null,
      "metadata": {
        "colab": {
          "base_uri": "https://localhost:8080/"
        },
        "id": "u8A-PzxmhvLf",
        "outputId": "842abab2-504f-4a30-b452-fe6d7941adc8"
      },
      "outputs": [
        {
          "output_type": "execute_result",
          "data": {
            "text/plain": [
              "count    3333.000000\n",
              "mean      101.064806\n",
              "std        39.822106\n",
              "min         1.000000\n",
              "25%        74.000000\n",
              "50%       101.000000\n",
              "75%       127.000000\n",
              "max       243.000000\n",
              "Name: Account length, dtype: float64"
            ]
          },
          "metadata": {},
          "execution_count": 28
        }
      ],
      "source": [
        "#describing the column account length \n",
        "df['Account length'].describe()"
      ]
    },
    {
      "cell_type": "markdown",
      "metadata": {
        "id": "yTSFzPDOdAmM"
      },
      "source": [
        "*All account lengths irrespective of there no.of days of services used are getting churned*\n",
        "\n",
        "*Here to decrease churning we should see to the need of 1st 150 customers as from the graph it is clear that more customers are in the range of 0 to 150*\n",
        "\n"
      ]
    },
    {
      "cell_type": "markdown",
      "metadata": {
        "id": "EGMzfry4iuKK"
      },
      "source": [
        "**International plan**"
      ]
    },
    {
      "cell_type": "code",
      "execution_count": null,
      "metadata": {
        "colab": {
          "base_uri": "https://localhost:8080/"
        },
        "id": "6l0dxAxsakC7",
        "outputId": "47bf2798-17c0-4bd6-f732-3e4d8dab7de8"
      },
      "outputs": [
        {
          "output_type": "execute_result",
          "data": {
            "text/plain": [
              "array(['No', 'Yes'], dtype=object)"
            ]
          },
          "metadata": {},
          "execution_count": 29
        }
      ],
      "source": [
        "\n",
        "df['International plan'].unique()"
      ]
    },
    {
      "cell_type": "code",
      "execution_count": null,
      "metadata": {
        "colab": {
          "base_uri": "https://localhost:8080/",
          "height": 373
        },
        "id": "PkWre1g4eCk3",
        "outputId": "f6f45dfa-27ec-41c5-dfc6-bd5262892278"
      },
      "outputs": [
        {
          "output_type": "execute_result",
          "data": {
            "text/plain": [
              "Text(0.5, 1.0, 'International plan with churn percentage')"
            ]
          },
          "metadata": {},
          "execution_count": 30
        },
        {
          "output_type": "display_data",
          "data": {
            "text/plain": [
              "<Figure size 576x360 with 1 Axes>"
            ],
            "image/png": "[encoded data removed]"
          },
          "metadata": {
            "needs_background": "light"
          }
        }
      ],
      "source": [
        "#Graph representing International plan with churn percentage\n",
        "((df.groupby(['International plan'])['Churn'].mean())*100).sort_values(ascending = False).plot.bar(color= 'green'  )\n",
        "\n",
        "plt.rcParams['figure.figsize'] = (8 , 5)\n",
        "plt.xlabel('International plan')\n",
        "plt.ylabel('Churn percentage')\n",
        "plt.title('International plan with churn percentage')"
      ]
    },
    {
      "cell_type": "markdown",
      "metadata": {
        "id": "ETWTf8fcjNNh"
      },
      "source": [
        "*as the graph above shows international plan is having great effect on churn of customers. for customers with international plan there is ~40% churn and with no international plan churn percent is 10%*\n",
        "\n",
        "It means international plan is to be improved"
      ]
    },
    {
      "cell_type": "markdown",
      "metadata": {
        "id": "Gs6fikBJjyVN"
      },
      "source": [
        "**Voice mail plan**"
      ]
    },
    {
      "cell_type": "code",
      "execution_count": null,
      "metadata": {
        "colab": {
          "base_uri": "https://localhost:8080/"
        },
        "id": "mm_Iw6NWeY3l",
        "outputId": "f87793e8-2ae1-4992-b4a9-0c34fb7c565a"
      },
      "outputs": [
        {
          "output_type": "execute_result",
          "data": {
            "text/plain": [
              "array(['Yes', 'No'], dtype=object)"
            ]
          },
          "metadata": {},
          "execution_count": 31
        }
      ],
      "source": [
        "df['Voice mail plan'].unique()"
      ]
    },
    {
      "cell_type": "code",
      "execution_count": null,
      "metadata": {
        "colab": {
          "base_uri": "https://localhost:8080/",
          "height": 373
        },
        "id": "r8S0e1GNkIzC",
        "outputId": "1715e4a6-a474-4e3a-9c5c-ca1f49041c88"
      },
      "outputs": [
        {
          "output_type": "execute_result",
          "data": {
            "text/plain": [
              "Text(0.5, 1.0, 'Voice mail plan with churn percentage')"
            ]
          },
          "metadata": {},
          "execution_count": 32
        },
        {
          "output_type": "display_data",
          "data": {
            "text/plain": [
              "<Figure size 576x360 with 1 Axes>"
            ],
            "image/png": "[encoded data removed]"
          },
          "metadata": {
            "needs_background": "light"
          }
        }
      ],
      "source": [
        "# Graph representing Voice mail plan with churn percentage\n",
        "((df.groupby(['Voice mail plan'])['Churn'].mean())*100).sort_values(ascending = False).plot.bar(color= 'green'  )\n",
        "plt.xlabel('Voice mail plan')\n",
        "plt.ylabel('Churn percentage')\n",
        "plt.title('Voice mail plan with churn percentage')"
      ]
    },
    {
      "cell_type": "code",
      "execution_count": null,
      "metadata": {
        "colab": {
          "base_uri": "https://localhost:8080/"
        },
        "id": "yKIhULe0l22a",
        "outputId": "9665831d-d540-4201-a5a3-0ba0eacc1624"
      },
      "outputs": [
        {
          "output_type": "execute_result",
          "data": {
            "text/plain": [
              "Voice mail plan\n",
              "No     16.715056\n",
              "Yes     8.676790\n",
              "Name: Churn, dtype: float64"
            ]
          },
          "metadata": {},
          "execution_count": 33
        }
      ],
      "source": [
        "#percentage churn taking place when there is voice mail plan or not\n",
        "a=((df.groupby(['Voice mail plan'])['Churn'].mean())*100)\n",
        "a"
      ]
    },
    {
      "cell_type": "markdown",
      "metadata": {
        "id": "gMjyvZdGkZ1v"
      },
      "source": [
        "*without Voice mail plan churn percent is 16.71%*\n",
        "\n",
        "\n",
        "*with Voice mail plan churn percent is 8.6%*\n",
        "\n",
        "the voice mail plan has to be improved and more customers should be convinced to take the plan\n",
        "\n"
      ]
    },
    {
      "cell_type": "markdown",
      "source": [
        "**International plan,Voice mail plan and Churn**"
      ],
      "metadata": {
        "id": "C_lVe0Xvh3bk"
      }
    },
    {
      "cell_type": "code",
      "source": [
        "# Comparison between 'International plan','Voice mail plan' and 'Churn'\n",
        "((df.groupby(['International plan','Voice mail plan'])['Churn'].mean())*100).plot.bar()\n",
        "plt.rcParams['figure.figsize']=(4,4)\n",
        "plt.ylabel('Percentage churn')\n",
        "plt.title('International plan,Voice mail plan and Churn')"
      ],
      "metadata": {
        "colab": {
          "base_uri": "https://localhost:8080/",
          "height": 403
        },
        "id": "ktPzdwA6hnvS",
        "outputId": "195d27d7-7f34-4539-954d-27eb2a5f9fb8"
      },
      "execution_count": null,
      "outputs": [
        {
          "output_type": "execute_result",
          "data": {
            "text/plain": [
              "Text(0.5, 1.0, 'International plan,Voice mail plan and Churn')"
            ]
          },
          "metadata": {},
          "execution_count": 34
        },
        {
          "output_type": "display_data",
          "data": {
            "text/plain": [
              "<Figure size 576x360 with 1 Axes>"
            ],
            "image/png": "[encoded data removed]"
          },
          "metadata": {
            "needs_background": "light"
          }
        }
      ]
    },
    {
      "cell_type": "code",
      "source": [
        "# Percentage churn with different plans\n",
        "a=((df.groupby(['International plan','Voice mail plan'])['Churn'].mean())*100)\n",
        "a"
      ],
      "metadata": {
        "colab": {
          "base_uri": "https://localhost:8080/"
        },
        "id": "HTkRNWq3i90b",
        "outputId": "138061da-78fa-4bfa-aeac-d9b472175a02"
      },
      "execution_count": null,
      "outputs": [
        {
          "output_type": "execute_result",
          "data": {
            "text/plain": [
              "International plan  Voice mail plan\n",
              "No                  No                 13.853211\n",
              "                    Yes                 5.301205\n",
              "Yes                 No                 43.722944\n",
              "                    Yes                39.130435\n",
              "Name: Churn, dtype: float64"
            ]
          },
          "metadata": {},
          "execution_count": 35
        }
      ]
    },
    {
      "cell_type": "markdown",
      "source": [
        "* When there is no plan the churn is 13.8%\n",
        "* When there is only voice mail plan churn percent is 5.3\n",
        "* When there is only International churn percent is 43.7\n",
        "* When there is both voice mail plan and international plan churn is 39.13%"
      ],
      "metadata": {
        "id": "N4nxluAmiLO6"
      }
    },
    {
      "cell_type": "markdown",
      "source": [
        "**Number vmail messages**"
      ],
      "metadata": {
        "id": "KMXe7vtIY0a8"
      }
    },
    {
      "cell_type": "code",
      "execution_count": null,
      "metadata": {
        "colab": {
          "base_uri": "https://localhost:8080/"
        },
        "id": "H-M0-K3MkTwQ",
        "outputId": "b8d567a5-e2d8-4423-9ee8-09d90e718acb"
      },
      "outputs": [
        {
          "output_type": "execute_result",
          "data": {
            "text/plain": [
              "46"
            ]
          },
          "metadata": {},
          "execution_count": 36
        }
      ],
      "source": [
        "#checking the no. of unique vmail messages sent\n",
        "df['Number vmail messages'].nunique()"
      ]
    },
    {
      "cell_type": "code",
      "execution_count": null,
      "metadata": {
        "colab": {
          "base_uri": "https://localhost:8080/",
          "height": 296
        },
        "id": "FVT6O5wgg7aE",
        "outputId": "cb9140a8-25c3-4a22-fff3-ec49c33b065a"
      },
      "outputs": [
        {
          "output_type": "execute_result",
          "data": {
            "text/plain": [
              "<matplotlib.axes._subplots.AxesSubplot at 0x7f901eb97400>"
            ]
          },
          "metadata": {},
          "execution_count": 37
        },
        {
          "output_type": "display_data",
          "data": {
            "text/plain": [
              "<Figure size 288x288 with 1 Axes>"
            ],
            "image/png": "[encoded data removed]"
          },
          "metadata": {
            "needs_background": "light"
          }
        }
      ],
      "source": [
        "#Plot representing the distribution of customers on the basis of no.of vmail message\n",
        "sns.distplot(df['Number vmail messages'], color='blue', label= 'All')"
      ]
    },
    {
      "cell_type": "code",
      "execution_count": null,
      "metadata": {
        "colab": {
          "base_uri": "https://localhost:8080/",
          "height": 279
        },
        "id": "65A7LFuVme0I",
        "outputId": "71cc0525-c04a-449b-8b44-905d3e27d191"
      },
      "outputs": [
        {
          "output_type": "display_data",
          "data": {
            "text/plain": [
              "<Figure size 288x288 with 1 Axes>"
            ],
            "image/png": "[encoded data removed]"
          },
          "metadata": {
            "needs_background": "light"
          }
        }
      ],
      "source": [
        "#Countplot for less than 25 message\n",
        "x=df[df['Number vmail messages']<=25 ]\n",
        "sns.countplot(data=x, x='Number vmail messages', hue='Churn'  )\n",
        "plt.rcParams['figure.figsize' ]= (18,5)"
      ]
    },
    {
      "cell_type": "code",
      "execution_count": null,
      "metadata": {
        "colab": {
          "base_uri": "https://localhost:8080/",
          "height": 334
        },
        "id": "0ZTdYJ9Bihpm",
        "outputId": "0ce77a03-f039-4f6e-dee7-debc167c692e"
      },
      "outputs": [
        {
          "output_type": "display_data",
          "data": {
            "text/plain": [
              "<Figure size 1296x360 with 1 Axes>"
            ],
            "image/png": "[encoded data removed]"
          },
          "metadata": {
            "needs_background": "light"
          }
        }
      ],
      "source": [
        "# countplot for more than 25 message\n",
        "x=df[df['Number vmail messages']>=25 ]\n",
        "sns.countplot(data=x, x='Number vmail messages', hue='Churn'  )\n",
        "plt.rcParams['figure.figsize' ]= (18,5)"
      ]
    },
    {
      "cell_type": "code",
      "execution_count": null,
      "metadata": {
        "colab": {
          "base_uri": "https://localhost:8080/"
        },
        "id": "5fHWhgTGoBxY",
        "outputId": "4bc866da-70c7-4acd-fa21-c9420bef74d0"
      },
      "outputs": [
        {
          "output_type": "execute_result",
          "data": {
            "text/plain": [
              "Number vmail messages\n",
              "48    50.000000\n",
              "18    28.571429\n",
              "44    28.571429\n",
              "42    26.666667\n",
              "41    23.076923\n",
              "0     16.715056\n",
              "45    16.666667\n",
              "29    15.094340\n",
              "26    14.634146\n",
              "32    14.634146\n",
              "Name: Churn, dtype: float64"
            ]
          },
          "metadata": {},
          "execution_count": 40
        }
      ],
      "source": [
        "# %churn on the basis of no.of vmail messages\n",
        "a=((df.groupby(['Number vmail messages'])['Churn'].mean())*100).sort_values(ascending = False)\n",
        "\n",
        "a.head(10)"
      ]
    },
    {
      "cell_type": "code",
      "execution_count": null,
      "metadata": {
        "colab": {
          "base_uri": "https://localhost:8080/",
          "height": 369
        },
        "id": "80KwBmrMmyUs",
        "outputId": "88c0ef1e-57a0-4d6a-ac10-340b6f63c4b8"
      },
      "outputs": [
        {
          "output_type": "execute_result",
          "data": {
            "text/plain": [
              "Text(0.5, 1.0, 'Number vmail messages with churn percentage')"
            ]
          },
          "metadata": {},
          "execution_count": 41
        },
        {
          "output_type": "display_data",
          "data": {
            "text/plain": [
              "<Figure size 1296x360 with 1 Axes>"
            ],
            "image/png": "[encoded data removed]"
          },
          "metadata": {
            "needs_background": "light"
          }
        }
      ],
      "source": [
        "#Plot representing Number vmail messages with churn percentage\n",
        "#((df.groupby(['Number vmail messages'])['Churn'].mean())*100).sort_values(ascending = False).plot.bar(color= 'blue'  )\n",
        "((df.groupby(['Number vmail messages'])['Churn'].mean())*100).plot.bar(color= 'blue'  )\n",
        "plt.xlabel('Number vmail messages')\n",
        "plt.rcParams['figure.figsize'] =(18,5)\n",
        "plt.ylabel('Churn percentage')\n",
        "plt.title('Number vmail messages with churn percentage')"
      ]
    },
    {
      "cell_type": "markdown",
      "source": [
        "there are 2000 customers who have sent no  vmail message and then there is increase in customers who who has sent 20 to 51  message but reachd upto 60 customers maximum\n",
        "\n",
        "by checking the percentage churn we get to know that mostly more the  Number of vmail messages there will be more churning \n",
        "\n",
        "\n",
        "so the quality of vmail message is to be improved"
      ],
      "metadata": {
        "id": "SvK5NFTbmsJn"
      }
    },
    {
      "cell_type": "code",
      "execution_count": null,
      "metadata": {
        "id": "dNJi8skFo9Tv"
      },
      "outputs": [],
      "source": [
        "# function to create boxplots\n",
        "\n",
        "plots= {1:[111], 2:[121, 122] , 3:[131,132,133] }\n",
        "\n",
        "def boxplots(x,y,df):\n",
        "  rows=int(str(plots[len(y)] [0]) [0])\n",
        "  columns=int(str(plots[len(y)] [0]) [1])\n",
        "  plt.figure(figsize=(7*columns, 7*rows))\n",
        "\n",
        "  for i,j in enumerate(y):\n",
        "    plt.subplot(plots[len(y)][i])\n",
        "    ax=sns.boxplot(x=x , y= j , data = df[[x,j]]  )\n",
        "    ax.set_title(j)\n",
        "    plt.rcParams['figure.figsize']=(12,5)\n",
        "\n",
        "  return plt.show()"
      ]
    },
    {
      "cell_type": "markdown",
      "source": [
        "\n",
        "**Total day minutes',\n",
        "       'Total day calls', 'Total day charge**\n",
        "\n",
        "\n",
        "---\n",
        "\n",
        "\n",
        "\n",
        "\n",
        "\n",
        "\n",
        "\n"
      ],
      "metadata": {
        "id": "bf3s9SeNZX2V"
      }
    },
    {
      "cell_type": "code",
      "execution_count": null,
      "metadata": {
        "colab": {
          "base_uri": "https://localhost:8080/",
          "height": 458
        },
        "id": "luN9jBVwtFg5",
        "outputId": "dfe2ac67-8494-41f9-8c2b-056771f58dac"
      },
      "outputs": [
        {
          "output_type": "display_data",
          "data": {
            "text/plain": [
              "<Figure size 1512x504 with 3 Axes>"
            ],
            "image/png": "[encoded data removed]"
          },
          "metadata": {
            "needs_background": "light"
          }
        }
      ],
      "source": [
        "# Boxplots showing relation between churn and Total day minutes','Total day calls', 'Total day charge\n",
        "boxplots('Churn' , ['Total day minutes',\n",
        "       'Total day calls', 'Total day charge'] , df)"
      ]
    },
    {
      "cell_type": "markdown",
      "metadata": {
        "id": "DW7ERf-Otjq4"
      },
      "source": [
        "Here we can see that the median of getting churned is higher by about 50  total day min\n",
        "\n",
        "the median of getting churned is higher for getting churned but it is almost the same for getting churned or not\n",
        "\n",
        "the total charge depends on  total day min and total day calls and median of getting churned is higher than the other one\n",
        "\n",
        "*We can conclude here by saying that churning is high for the one with high total day charge*\n",
        "\n",
        "\n"
      ]
    },
    {
      "cell_type": "markdown",
      "source": [
        "**Total eve minutes',\n",
        "       'Total eve calls', 'Total eve charge'**"
      ],
      "metadata": {
        "id": "ozEQtQd8aMGZ"
      }
    },
    {
      "cell_type": "code",
      "execution_count": null,
      "metadata": {
        "colab": {
          "base_uri": "https://localhost:8080/",
          "height": 458
        },
        "id": "GUkybK9JtciQ",
        "outputId": "7651e080-c041-4977-9f84-46a45163980f"
      },
      "outputs": [
        {
          "output_type": "display_data",
          "data": {
            "text/plain": [
              "<Figure size 1512x504 with 3 Axes>"
            ],
            "image/png": "[encoded data removed]"
          },
          "metadata": {
            "needs_background": "light"
          }
        }
      ],
      "source": [
        "#boxplot showing relation between churn and Total eve minutes','Total eve calls', 'Total eve charge'\n",
        "boxplots('Churn' , ['Total eve minutes',\n",
        "       'Total eve calls', 'Total eve charge'] , df)"
      ]
    },
    {
      "cell_type": "markdown",
      "metadata": {
        "id": "zcp0E4hYwjqL"
      },
      "source": [
        "the medians of getting churned is higher in the 1st and 3rd plot and same for total eve calls \n",
        "\n",
        "which means it does not matter if we make more evening calls or not the churning will be 50%\n",
        "\n",
        "*we conclude that more eve minutes the more the charges and hence more is churning*"
      ]
    },
    {
      "cell_type": "markdown",
      "source": [
        "**Total night minutes',\n",
        "       'Total night calls', 'Total night charge**"
      ],
      "metadata": {
        "id": "vRwkrTDraTHk"
      }
    },
    {
      "cell_type": "code",
      "execution_count": null,
      "metadata": {
        "colab": {
          "base_uri": "https://localhost:8080/",
          "height": 458
        },
        "id": "Tyr3DHL4r2PU",
        "outputId": "d4ae8492-c5e2-41e7-d763-149600325857"
      },
      "outputs": [
        {
          "output_type": "display_data",
          "data": {
            "text/plain": [
              "<Figure size 1512x504 with 3 Axes>"
            ],
            "image/png": "[encoded data removed]"
          },
          "metadata": {
            "needs_background": "light"
          }
        }
      ],
      "source": [
        "#boxplot showing relation between Total night minutes','Total night calls', 'Total night charge\n",
        "boxplots('Churn' , ['Total night minutes',\n",
        "       'Total night calls', 'Total night charge'] , df)"
      ]
    },
    {
      "cell_type": "markdown",
      "metadata": {
        "id": "TK9puRAOx-sg"
      },
      "source": [
        "*churning very slightly depends on total night charges  but its almost the same*"
      ]
    },
    {
      "cell_type": "markdown",
      "source": [
        "**'Total intl minutes',\n",
        "       'Total intl calls', 'Total intl charge**"
      ],
      "metadata": {
        "id": "zJeFyrGdayM-"
      }
    },
    {
      "cell_type": "code",
      "execution_count": null,
      "metadata": {
        "colab": {
          "base_uri": "https://localhost:8080/",
          "height": 458
        },
        "id": "3BnO-n0qxpsd",
        "outputId": "e95eeddd-bada-46e2-815b-9fb38a1447e1"
      },
      "outputs": [
        {
          "output_type": "display_data",
          "data": {
            "text/plain": [
              "<Figure size 1512x504 with 3 Axes>"
            ],
            "image/png": "[encoded data removed]"
          },
          "metadata": {
            "needs_background": "light"
          }
        }
      ],
      "source": [
        "#Boxplot showing relation between 'Total intl minutes','Total intl calls', 'Total intl charge\n",
        "boxplots('Churn' , [ 'Total intl minutes',\n",
        "       'Total intl calls', 'Total intl charge'] , df)"
      ]
    },
    {
      "cell_type": "markdown",
      "metadata": {
        "id": "7rkbcMUMzre2"
      },
      "source": [
        "total intl minutes is responsible for the change in total intl charges and when it is around 3 the churning is more"
      ]
    },
    {
      "cell_type": "markdown",
      "source": [
        "**Customer service calls**"
      ],
      "metadata": {
        "id": "Oav3tDT6bDST"
      }
    },
    {
      "cell_type": "code",
      "execution_count": null,
      "metadata": {
        "colab": {
          "base_uri": "https://localhost:8080/"
        },
        "id": "NkkPG9o7rTtQ",
        "outputId": "27a795ca-7581-4b91-cc6a-c32aaccfdff6"
      },
      "outputs": [
        {
          "output_type": "execute_result",
          "data": {
            "text/plain": [
              "array([1, 0, 2, 3, 4, 5, 7, 9, 6, 8])"
            ]
          },
          "metadata": {},
          "execution_count": 47
        }
      ],
      "source": [
        "# no. of times customer is making service calls\n",
        "df['Customer service calls'].unique()"
      ]
    },
    {
      "cell_type": "code",
      "execution_count": null,
      "metadata": {
        "colab": {
          "base_uri": "https://localhost:8080/",
          "height": 363
        },
        "id": "xs-Zz6pptqr6",
        "outputId": "c82f49b1-2146-4006-c41c-4d610bb6c943"
      },
      "outputs": [
        {
          "output_type": "execute_result",
          "data": {
            "text/plain": [
              "Text(0.5, 1.0, 'Customer service calls with churn percentage')"
            ]
          },
          "metadata": {},
          "execution_count": 48
        },
        {
          "output_type": "display_data",
          "data": {
            "text/plain": [
              "<Figure size 864x360 with 1 Axes>"
            ],
            "image/png": "[encoded data removed]"
          },
          "metadata": {
            "needs_background": "light"
          }
        }
      ],
      "source": [
        "# Plot showing Customer service calls with churn percentage\n",
        "((df.groupby(['Customer service calls'])['Churn'].mean())*100).sort_values(ascending = False).plot.bar(color= 'green'  )\n",
        "plt.xlabel('Customer service calls')\n",
        "plt.ylabel('Churn percentage')\n",
        "plt.title('Customer service calls with churn percentage')"
      ]
    },
    {
      "cell_type": "markdown",
      "metadata": {
        "id": "L9vbSik-v_kt"
      },
      "source": [
        "*Here we can conclude that when the service call made by the customer is between 0 to 3 the churning percent was lower than 10% but as the Customer service calls number increased the churning also increased*\n",
        "\n",
        "*so, the lower the Customer service calls the better*"
      ]
    },
    {
      "cell_type": "code",
      "execution_count": null,
      "metadata": {
        "colab": {
          "base_uri": "https://localhost:8080/"
        },
        "id": "x9Euz-J_11gV",
        "outputId": "c56d2a22-2c77-4c83-d8cc-ea08f264cdbb"
      },
      "outputs": [
        {
          "output_type": "execute_result",
          "data": {
            "text/plain": [
              "Index(['State', 'Account length', 'Area code', 'International plan',\n",
              "       'Voice mail plan', 'Number vmail messages', 'Total day minutes',\n",
              "       'Total day calls', 'Total day charge', 'Total eve minutes',\n",
              "       'Total eve calls', 'Total eve charge', 'Total night minutes',\n",
              "       'Total night calls', 'Total night charge', 'Total intl minutes',\n",
              "       'Total intl calls', 'Total intl charge', 'Customer service calls',\n",
              "       'Churn'],\n",
              "      dtype='object')"
            ]
          },
          "metadata": {},
          "execution_count": 49
        }
      ],
      "source": [
        "df.columns"
      ]
    },
    {
      "cell_type": "code",
      "execution_count": null,
      "metadata": {
        "colab": {
          "base_uri": "https://localhost:8080/",
          "height": 350
        },
        "id": "3KecR-WsumeL",
        "outputId": "ec3051ca-116a-4d8b-9b7f-3583fd6e90db"
      },
      "outputs": [
        {
          "output_type": "display_data",
          "data": {
            "text/plain": [
              "<Figure size 864x360 with 1 Axes>"
            ],
            "image/png": "[encoded data removed]"
          },
          "metadata": {
            "needs_background": "light"
          }
        }
      ],
      "source": [
        "# plot to show the relation between average minutes during day , eve and night\n",
        "a=df['Total day minutes'].mean()\n",
        "b=df['Total eve minutes'].mean()\n",
        "c=df['Total night minutes'].mean()\n",
        "y=[a ,b , c]\n",
        "x=['day' , 'eve', 'night']\n",
        "plt.plot(x, y , marker='o', color = 'indigo')\n",
        "plt.rcParams['figure.figsize']=(4,4)\n",
        "plt.xlabel('Time of call')\n",
        "plt.ylabel('average minutes ')\n",
        "plt.title('avg minutes-time of call')\n",
        "plt.show()"
      ]
    },
    {
      "cell_type": "markdown",
      "metadata": {
        "id": "opi3Qb_X7Srs"
      },
      "source": [
        " Average Total minutes services used during day is low compared to that of evening and night which is same"
      ]
    },
    {
      "cell_type": "code",
      "execution_count": null,
      "metadata": {
        "colab": {
          "base_uri": "https://localhost:8080/",
          "height": 295
        },
        "id": "bAqmUuIY1Okp",
        "outputId": "48de2a40-8fd3-42a3-d61f-988d0209e6bd"
      },
      "outputs": [
        {
          "output_type": "display_data",
          "data": {
            "text/plain": [
              "<Figure size 288x288 with 1 Axes>"
            ],
            "image/png": "[encoded data removed]"
          },
          "metadata": {
            "needs_background": "light"
          }
        }
      ],
      "source": [
        "# plot to show the relation between average no. of calls during day , eve and night\n",
        "a=df['Total day calls'].mean()\n",
        "b=df['Total eve calls'].mean()\n",
        "c=df['Total night calls'].mean()\n",
        "y=[a ,b , c]\n",
        "x=['day' , 'eve', 'night']\n",
        "plt.plot(x, y , marker='o', color = 'indigo')\n",
        "plt.xlabel('Time of call')\n",
        "plt.ylabel('average no.of calls ')\n",
        "plt.title('avg no.of calls-time of call')\n",
        "plt.rcParams['figure.figsize']=(4,4)\n",
        "plt.show()"
      ]
    },
    {
      "cell_type": "markdown",
      "metadata": {
        "id": "e2mQ_JDj6cl7"
      },
      "source": [
        "Customers are making maximum calls during day and the average  no. of calls during evening and night des not varies alot "
      ]
    },
    {
      "cell_type": "code",
      "execution_count": null,
      "metadata": {
        "colab": {
          "base_uri": "https://localhost:8080/",
          "height": 295
        },
        "id": "Fq6j24sN5eyT",
        "outputId": "e2e29ed7-100c-433c-da47-f58db683b61b"
      },
      "outputs": [
        {
          "output_type": "display_data",
          "data": {
            "text/plain": [
              "<Figure size 288x288 with 1 Axes>"
            ],
            "image/png": "[encoded data removed]"
          },
          "metadata": {
            "needs_background": "light"
          }
        }
      ],
      "source": [
        "# plot to show the relation between average charges during day , eve and night\n",
        "a=df['Total day charge'].mean()\n",
        "b=df['Total eve charge'].mean()\n",
        "c=df['Total night charge'].mean()\n",
        "y=[a ,b , c]\n",
        "x=['day' , 'eve', 'night']\n",
        "plt.plot(x, y , marker='o', color = 'indigo')\n",
        "plt.xlabel('Time of call')\n",
        "plt.ylabel('average charges ')\n",
        "plt.title('avg charges-time of call')\n",
        "plt.rcParams['figure.figsize']=(4,4)\n",
        "plt.show()"
      ]
    },
    {
      "cell_type": "markdown",
      "metadata": {
        "id": "9aeGjEvF6EMt"
      },
      "source": [
        "*From the plot it is clear that  average charges during day is Quite high then comes eve then night*"
      ]
    },
    {
      "cell_type": "markdown",
      "source": [
        "**Conclusion**\n",
        "\n",
        "* There is 14.49% churning faced by the company .\n",
        "* The states facing maximum churning is \n",
        "\n",
        " * NJ    facing   26.47% churning\n",
        " *CA   facing 26.47% churning\n",
        " *TX    facing 25% churning\n",
        " * MD    facing 24.3% churning\n",
        " *SC   facing 23.3% churning\n",
        "\n",
        "\n",
        " * All the three mentioned area code has almost same churn percent.\n",
        "\n",
        " * Churning is taking place disregard of the account length and more customers are the ones who have used the services from 0 to 150 days.\n",
        "\n",
        "* The people having international plan is churning more by 38% compared to those with voice mail plans .\n",
        "\n",
        "* Customers having no voice mail plans are churning more.\n",
        "\n",
        "* More the no. of vmail message more is churning\n",
        "\n",
        "* Charges of international calls is very high.\n",
        "\n",
        "*  Customers are making more calls during day and their duration of calls are low  and despite less duration the charges during day are very high compared to that ofevening and night.\n",
        "\n",
        "* the more no. of calls a customer has to make to the service provider the more is their churn."
      ],
      "metadata": {
        "id": "BmiAiMvGkS1V"
      }
    },
    {
      "cell_type": "markdown",
      "source": [
        "**Recommendations**\n",
        "\n",
        "* There are many states having very high churning so, the company must survey those state to get to their know reason of dissatisfaction and try to make offers according to their needs.\n",
        "\n",
        "* The company needs to reduce the charges they are putting on international call rates as customers with international plans seems to be churning alot. \n",
        "\n",
        "* They can reduce the charges of call during day time as the difference between the call rates at night and day is big, and more calls are made during day.\n",
        "\n",
        "* Voice mail plan prices needs to be lowered as the people who are sending more vmail messages are churning more.\n",
        "\n",
        "* The company should try and solve problems faced by customers as soon as possible so they don't have to make many service calls regarding the same issue."
      ],
      "metadata": {
        "id": "EGesDweIbq4O"
      }
    }
  ],
  "metadata": {
    "colab": {
      "provenance": [],
      "collapsed_sections": [
        "IJVf_6sOsuU1"
      ],
      "include_colab_link": true
    },
    "kernelspec": {
      "display_name": "Python 3",
      "language": "python",
      "name": "python3"
    },
    "language_info": {
      "codemirror_mode": {
        "name": "ipython",
        "version": 3
      },
      "file_extension": ".py",
      "mimetype": "text/x-python",
      "name": "python",
      "nbconvert_exporter": "python",
      "pygments_lexer": "ipython3",
      "version": "3.6.6"
    }
  },
  "nbformat": 4,
  "nbformat_minor": 0
}